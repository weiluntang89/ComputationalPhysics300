{
 "cells": [
  {
   "cell_type": "markdown",
   "id": "9e69c6a1",
   "metadata": {},
   "source": [
    "# Final Project: Machine Learning "
   ]
  },
  {
   "cell_type": "markdown",
   "id": "eeb57fbc",
   "metadata": {},
   "source": [
    "## Weilun Tang "
   ]
  },
  {
   "cell_type": "markdown",
   "id": "0a356082",
   "metadata": {},
   "source": [
    "# Machine Learning "
   ]
  },
  {
   "cell_type": "markdown",
   "id": "1ccdd395",
   "metadata": {},
   "source": [
    "A machine learning algorithm is a computational process that uses input data to achieve a desired task without being literally programmed to produce a particular outcome. The algorithm learns from the data and adapt themselves from their experience in order to achieve their task better. The process of adaptation is called training. The process of the machine learning from the data is identical to how human being learn. \n",
    "\n",
    "There are two types of learning, unsupervised learning and supervised learning. "
   ]
  },
  {
   "cell_type": "markdown",
   "id": "e19cd6a8",
   "metadata": {},
   "source": [
    "## Supervised Learning "
   ]
  },
  {
   "cell_type": "markdown",
   "id": "3baad0f6",
   "metadata": {},
   "source": [
    "Unsupervised learning is the algorithms that discover the patterns without any human intervention. By contrast, supervised learning is to use labeled datasets to train the algorithms in order to classify data or predict outcomes accurately. There are two types of problems in supervised learning, classification and regression"
   ]
  },
  {
   "cell_type": "markdown",
   "id": "28f5e727",
   "metadata": {},
   "source": [
    "### Classification "
   ]
  },
  {
   "cell_type": "markdown",
   "id": "74674092",
   "metadata": {},
   "source": [
    "Classfication is to use the algorithm to assign test data into specific categories. The test data is used to train the machine, and it will recognize the pattern and label data in appropriate class."
   ]
  },
  {
   "cell_type": "markdown",
   "id": "7cb53068",
   "metadata": {},
   "source": [
    "### Regression "
   ]
  },
  {
   "cell_type": "markdown",
   "id": "0ae201d3",
   "metadata": {},
   "source": [
    "Regression is to use the algorithm to understand the relationship between dependent and independent variables. It is often used in business."
   ]
  },
  {
   "cell_type": "markdown",
   "id": "7aed1cac",
   "metadata": {},
   "source": [
    "# Bias and Variance "
   ]
  },
  {
   "cell_type": "markdown",
   "id": "e314acda",
   "metadata": {},
   "source": [
    "In machine learning, bias is the inability of the estimation to represent the true relationship of the data. If the estimation is high biased, the estimation does not show the true relationship well. By contrast, the estimation show the true relationship well if the estimation is low bias."
   ]
  },
  {
   "cell_type": "markdown",
   "id": "001fbada",
   "metadata": {},
   "source": [
    "![](bias.png)"
   ]
  },
  {
   "cell_type": "markdown",
   "id": "6eef0793",
   "metadata": {},
   "source": [
    "In the figure above, the machine learning algorithms for the same dataset are linear regression and squiggly line. In the linear regression, the distance from the data points to the straight line is relatively large compared to the squiggly line. The straight line is high bias, and the squiggly line is low bias."
   ]
  },
  {
   "cell_type": "markdown",
   "id": "2672ea17",
   "metadata": {},
   "source": [
    "Variance is the difference in fits between data sets. If the linear regression and the squiggly line are used for another data set as it is shown in the figure below. The distance from the data points to the straight line is relatively the same compared to the last data. However, the distace from the data points to the squiggly line increases significantly. This example shows that the straight line has low variance. The low varibility shows that the sum of the squares is relatively the same for every data set. By contrast, the squiggly line has high variance. The high varibility shows that the sum of the squares varies significantly between data sets. "
   ]
  },
  {
   "cell_type": "markdown",
   "id": "0321a1c0",
   "metadata": {},
   "source": [
    "![](variance.png)"
   ]
  },
  {
   "cell_type": "markdown",
   "id": "4dcc007d",
   "metadata": {},
   "source": [
    "# Support Vector Machine (SVM)"
   ]
  },
  {
   "cell_type": "markdown",
   "id": "6ce452f1",
   "metadata": {},
   "source": [
    "## Basic Idea of SVM"
   ]
  },
  {
   "cell_type": "markdown",
   "id": "537dd3a3",
   "metadata": {},
   "source": [
    "Support-vector machines (SVMs) are the most commonly used supervised learning models for classification. The method is to generate some hyperplanes in order to classify data. "
   ]
  },
  {
   "cell_type": "markdown",
   "id": "a341104d",
   "metadata": {},
   "source": [
    "![](svmimage.png)"
   ]
  },
  {
   "cell_type": "markdown",
   "id": "ec3a4ca4",
   "metadata": {},
   "source": [
    "Consider the image above, the blue colored diamonds and green circles are two classes. There is a black solid line that seperates two classes. This line is called the hyperplane. By definition, a hyperplane is a subspace whose dimension is one less than that of its ambient space. In this example, the two classes of data are 2-dimensional. The black solid line is 1-dimensional. Thus, the line is the hyperplane for this data set. The shortest distance from a data point of a class to the hyperplane is called the maximum margin, so the hyperplane is called the maximal margin classifier."
   ]
  },
  {
   "cell_type": "markdown",
   "id": "3b78defc",
   "metadata": {},
   "source": [
    "The position of the hyperplane is not usually determined by the maximum margin. Consider a case that one of the class has an outlier as it is shown below "
   ]
  },
  {
   "cell_type": "markdown",
   "id": "aca7cea3",
   "metadata": {},
   "source": [
    "![](svmOutlier.png)"
   ]
  },
  {
   "cell_type": "markdown",
   "id": "ad7ab696",
   "metadata": {},
   "source": [
    "The blue stars and red circles are two classes, and they are showing in a 2-dimensional plane. The class of blue stars has an outlier, and it is near the class of red circles. If the hyperplane is placed in the middle as the figure above, it is difficult to classify if a new data point is on the right side of the hyperplane. If maximal margin classifier is used in this case, the majority of the blue stars is far away from the classifier. Therefore, the maximal margin classifier is sensitive to the outlier. The sensitivity of the maximal margin classifier shows that the classifier is low bias but high variance. "
   ]
  },
  {
   "cell_type": "markdown",
   "id": "1eb222a0",
   "metadata": {},
   "source": [
    "The solution to this problem is to allow misclassification. Place the hyperplane as it is shown in the figure above. The outlier of the blue stars is the misclassifications. However, if there is a new data point on the right side of the hyperplane, it is classified as the red circle class. When misclassifications are allowed, the distance between the data to the hyperplane is now called a soft margin. The hyperplane is called the soft margin classifier. Moreover, the soft margin classifier is also called as support vector classifier. The data points on the edge of the soft margin is called support vectors."
   ]
  },
  {
   "cell_type": "markdown",
   "id": "8bd9a929",
   "metadata": {},
   "source": [
    "## Hinge Loss Function "
   ]
  },
  {
   "cell_type": "markdown",
   "id": "967c782b",
   "metadata": {},
   "source": [
    "Loss function is usually used for measuring the loss of a specific model. Loss function is also called the cost function or error function. It shows that how well the data fits the model. Sum of the squares is one of the common error functions."
   ]
  },
  {
   "cell_type": "markdown",
   "id": "258020da",
   "metadata": {},
   "source": [
    "Hinge loss function is commonly used for SVM. The visualization of a Hinge loss function is shown below. "
   ]
  },
  {
   "cell_type": "markdown",
   "id": "a60a9793",
   "metadata": {},
   "source": [
    "![](hinge.png)"
   ]
  },
  {
   "cell_type": "markdown",
   "id": "9711c847",
   "metadata": {},
   "source": [
    "The x-axis is the numbers of the data. The negative direction of the x-axis is when the model incorrectly classified the data, the positive direction of the x-axis is when the model correctly classified the model. The y-axis is the loss size or error. The dash line is at when x = 1. In x > 1 region, all of the data is correctly classified. In x < -1 region, all of the data is incorrectly classified with some losses."
   ]
  },
  {
   "cell_type": "markdown",
   "id": "f383f356",
   "metadata": {},
   "source": [
    "# Mathematical Background "
   ]
  },
  {
   "cell_type": "markdown",
   "id": "7f36330b",
   "metadata": {},
   "source": [
    "## Decision Rule"
   ]
  },
  {
   "cell_type": "markdown",
   "id": "21ad9efc",
   "metadata": {},
   "source": [
    "![](svmVectorImage.png)"
   ]
  },
  {
   "cell_type": "markdown",
   "id": "07245636",
   "metadata": {},
   "source": [
    "Consider a vector $\\vec{w}$ that is normal to the hyperplane. An unknown vector $\\vec{u}$ is an arbitrary vector. In the figure above, the unknown vector u is placed on the left side of the hyperplane. In order to classify an unknown vector, a decision rule needs to be introduced. Take the dot product of vectors $\\vec{u}$ and $\\vec{w}$. The dot product is just the projection of vector u onto vector w. The dot product is equal or greater than some constant b. The equation becomes  "
   ]
  },
  {
   "cell_type": "markdown",
   "id": "633c3829",
   "metadata": {},
   "source": [
    "\\begin{equation}\n",
    "\\vec{w} \\cdot \\vec{u} \\geq - b\n",
    "\\end{equation} \n",
    "\n",
    "\\begin{equation}\n",
    "\\vec{w} \\cdot \\vec{u} + b \\geq 0 \n",
    "\\end{equation}"
   ]
  },
  {
   "cell_type": "markdown",
   "id": "266d1d1d",
   "metadata": {},
   "source": [
    "This is the decision rule whether the unknow vector is on the right side of the hyperplane. The decision rule can be used to classify whether the sample is a positve or negative sample"
   ]
  },
  {
   "cell_type": "markdown",
   "id": "93a0f6ce",
   "metadata": {},
   "source": [
    "\\begin{equation}\n",
    "\\vec{w} \\cdot \\vec{x_+} + b \\geq 1\n",
    "\\end{equation}\n",
    "\n",
    "\\begin{equation}\n",
    "\\vec{w} \\cdot \\vec{x_-} + b \\leq 1\n",
    "\\end{equation}"
   ]
  },
  {
   "cell_type": "markdown",
   "id": "2d3bb296",
   "metadata": {},
   "source": [
    "where $\\vec{x_+}$ is the positive sample vector and $\\vec{x_-}$ is the negative sample vector. The equation $\\vec{w} \\cdot \\vec{x_+} + b \\pm 1$ is the equation of the two gutters. \n",
    "\n",
    "It is more convenient to introduce a new variable to turn these two equations into one equation."
   ]
  },
  {
   "cell_type": "markdown",
   "id": "65aeac1b",
   "metadata": {},
   "source": [
    "\\begin{equation}\n",
    "y_i = 1 for + sample\n",
    "\\end{equation}\n",
    "\n",
    "\\begin{equation}\n",
    "y_i = -1 for - sample\n",
    "\\end{equation}"
   ]
  },
  {
   "cell_type": "markdown",
   "id": "69e518bb",
   "metadata": {},
   "source": [
    "Multiply the new variable $y_i$ to the two equations above to get "
   ]
  },
  {
   "cell_type": "markdown",
   "id": "56f2aa62",
   "metadata": {},
   "source": [
    "\\begin{equation}\n",
    "y_i (\\vec{w} \\cdot \\vec{x_+} + b) \\geq 1 \n",
    "\\end{equation}"
   ]
  },
  {
   "cell_type": "markdown",
   "id": "4077e22d",
   "metadata": {},
   "source": [
    "\\begin{equation}\n",
    "y_i (\\vec{w} \\cdot \\vec{x_-} + b) \\geq 1\n",
    "\\end{equation}"
   ]
  },
  {
   "cell_type": "markdown",
   "id": "208e3b3e",
   "metadata": {},
   "source": [
    "It turns out that the two equations are the same. Write them with the same index "
   ]
  },
  {
   "cell_type": "markdown",
   "id": "a63f97d7",
   "metadata": {},
   "source": [
    "\\begin{equation}\n",
    "y_i (\\vec{w} \\cdot \\vec{x_i} + b) - 1 \\geq 0\n",
    "\\end{equation}"
   ]
  },
  {
   "cell_type": "markdown",
   "id": "6bb3dc1d",
   "metadata": {},
   "source": [
    "Moreover, when this equation is equal to 0, it is for the sample that it is in the gutters."
   ]
  },
  {
   "cell_type": "markdown",
   "id": "c3dab28d",
   "metadata": {},
   "source": [
    "\\begin{equation}\n",
    "y_i (\\vec{w} \\cdot \\vec{x_i} + b) - 1 = 0\n",
    "\\end{equation}"
   ]
  },
  {
   "cell_type": "markdown",
   "id": "a97946e2",
   "metadata": {},
   "source": [
    "## Width of the Street "
   ]
  },
  {
   "cell_type": "markdown",
   "id": "b90edf35",
   "metadata": {},
   "source": [
    "![](svmStreet.png)"
   ]
  },
  {
   "cell_type": "markdown",
   "id": "3e1d9124",
   "metadata": {},
   "source": [
    "Consider a positive and negative sample vectors that are in the gutters. The difference of these two vectors are $\\vec{x_+} - \\vec{x_-}$. If there is a unit vector $\\hat w$ that is normal to the hyperplane, the dot product of the seperation vector and the unit vector $(\\vec{x_+} - \\vec{x_-}) \\cdot \\hat w$ is the width of the street."
   ]
  },
  {
   "cell_type": "markdown",
   "id": "735264ce",
   "metadata": {},
   "source": [
    "\\begin{equation}\n",
    "width = (\\vec{x_+} - \\vec{x_-}) \\cdot \\frac{\\vec{w}}{|\\vec{w}|}\n",
    "\\end{equation}"
   ]
  },
  {
   "cell_type": "markdown",
   "id": "0214aa1c",
   "metadata": {},
   "source": [
    "Use equation $y_i (\\vec{w} \\cdot \\vec{x_i} + b) - 1 = 0$ to find an expression for the postive and negative samples. "
   ]
  },
  {
   "cell_type": "markdown",
   "id": "2247a2f3",
   "metadata": {},
   "source": [
    "\\begin{equation}\n",
    "\\vec{x_+} = 1 - b\n",
    "\\end{equation}"
   ]
  },
  {
   "cell_type": "markdown",
   "id": "4d44c8be",
   "metadata": {},
   "source": [
    "\\begin{equation}\n",
    "-\\vec{x_-} = 1 + b\n",
    "\\end{equation}"
   ]
  },
  {
   "cell_type": "markdown",
   "id": "5ad6e5be",
   "metadata": {},
   "source": [
    "The final equation of the width becomes "
   ]
  },
  {
   "cell_type": "markdown",
   "id": "b494c011",
   "metadata": {},
   "source": [
    "\\begin{equation}\n",
    "width = \\frac{2}{|\\vec{w}|}\n",
    "\\end{equation}"
   ]
  },
  {
   "cell_type": "markdown",
   "id": "e2d19e4a",
   "metadata": {},
   "source": [
    "In svm, the hyperplane is placed in where the width of the street is maximum. The maximization of the width can be simplify further to minimize the function $\\frac{1}{2} |\\vec{w}|^2$. This function has a constraint such that $y_i (\\vec{w} \\cdot \\vec{x_i} + b) - 1 = 0$. Therefore, this is an optimizing problem with a constraint. The method to solve this is the Lagrange multiplier. The Lagrangian can be written as "
   ]
  },
  {
   "cell_type": "markdown",
   "id": "3ba90bc1",
   "metadata": {},
   "source": [
    "\\begin{equation}\n",
    "L = \\frac{1}{2}|\\vec{w}|^2 - \\sum \\alpha_i [y_i (\\vec{w} \\cdot \\vec{x_i} + b) - 1]\n",
    "\\end{equation}"
   ]
  },
  {
   "cell_type": "markdown",
   "id": "ec0afedc",
   "metadata": {},
   "source": [
    "Take the partial derivative with respect to the variables and set it equal to 0"
   ]
  },
  {
   "cell_type": "markdown",
   "id": "7b4734a1",
   "metadata": {},
   "source": [
    "\\begin{equation}\n",
    "\\frac{\\partial L}{\\partial \\vec{w}} = \\vec{w} - \\sum \\alpha_i y_i \\vec{x_i} = 0 \\\\\n",
    "\\vec{w} = \\sum \\alpha_i y_i \\vec{x_i}\n",
    "\\end{equation}"
   ]
  },
  {
   "cell_type": "markdown",
   "id": "167b6cdc",
   "metadata": {},
   "source": [
    "\\begin{equation}\n",
    "\\frac{\\partial L}{\\partial b} = \\sum \\alpha_i y_i = 0 \\\\\n",
    "\\sum \\alpha_i y_i = 0 \n",
    "\\end{equation}"
   ]
  },
  {
   "cell_type": "markdown",
   "id": "b5223899",
   "metadata": {},
   "source": [
    "Substitute the results from the partial derivative back to the Lagrangian to get "
   ]
  },
  {
   "cell_type": "markdown",
   "id": "701c6194",
   "metadata": {},
   "source": [
    "\\begin{equation}\n",
    "L = \\frac{1}{2} (\\sum_{i} \\alpha_i y_i \\vec{x_i}) (\\sum_{j} \\alpha_j y_j \\vec{x_j}) - (\\sum_{i} \\alpha_i y_i \\vec{x_i}) (\\sum_{j} \\alpha_j y_j \\vec{x_j}) - \\sum_{i} \\alpha_i y_i b_i + \\sum_{i} \\alpha_i \\\\\n",
    "L = \\sum_{i} \\alpha_i - \\frac{1}{2} \\sum_{i} \\sum_{j} \\alpha_i \\alpha_j y_i y_j \\vec{x_i} \\cdot \\vec{x_j}\n",
    "\\end{equation}"
   ]
  },
  {
   "cell_type": "code",
   "execution_count": 85,
   "id": "48d8e627",
   "metadata": {},
   "outputs": [
    {
     "name": "stdout",
     "output_type": "stream",
     "text": [
      "optimized a step\n",
      "optimized a step\n",
      "optimized a step\n"
     ]
    },
    {
     "data": {
      "text/plain": [
       "(1.0, 8.71590000000112)"
      ]
     },
     "execution_count": 85,
     "metadata": {},
     "output_type": "execute_result"
    },
    {
     "data": {
      "image/png": "[encoded data removed]",
      "text/plain": [
       "<Figure size 432x288 with 1 Axes>"
      ]
     },
     "metadata": {},
     "output_type": "display_data"
    }
   ],
   "source": [
    "# importing some basic libraries\n",
    "%matplotlib inline\n",
    "import matplotlib.pyplot as plt\n",
    "from matplotlib import style\n",
    "style.use('ggplot')\n",
    "import numpy as np\n",
    "\n",
    "class SVM(object):\n",
    "    def __init__(self,visualization=True):                #Dunder method, double underscores.\n",
    "        self.visualization = visualization                #Define an attribute \n",
    "        self.colors = {1:'r',-1:'b'}                      #Define an attribute \n",
    "        if self.visualization:\n",
    "            self.fig = plt.figure()\n",
    "            self.ax = self.fig.add_subplot(1,1,1)\n",
    "    \n",
    "    def fit(self,data):\n",
    "        #train with data\n",
    "        self.data = data\n",
    "        # { |\\w\\|:{w,b}}\n",
    "        opt_dict = {}\n",
    "        \n",
    "        transforms = [[1,1],[-1,1],[-1,-1],[1,-1]]\n",
    "        \n",
    "        all_data = np.array([])\n",
    "        for yi in self.data:\n",
    "            all_data = np.append(all_data,self.data[yi])    #Store data in a numpy array\n",
    "                    \n",
    "        self.max_feature_value = max(all_data)              #Max value of data \n",
    "        self.min_feature_value = min(all_data)              #Min Value of data \n",
    "        all_data = None\n",
    "        \n",
    "        #with smaller steps our margins and db will be more precise\n",
    "        step_sizes = [self.max_feature_value * 0.1,\n",
    "                      self.max_feature_value * 0.01,\n",
    "                      #point of expense\n",
    "                      self.max_feature_value * 0.001,]\n",
    "        \n",
    "        #extremly expensise\n",
    "        b_range_multiple = 5\n",
    "        #we dont need to take as small step as w\n",
    "        b_multiple = 5\n",
    "        \n",
    "        latest_optimum = self.max_feature_value*10\n",
    "        \n",
    "        \"\"\"\n",
    "        objective is to satisfy yi(x.w)+b>=1 for all training dataset such that ||w|| is minimum\n",
    "        for this we will start with random w, and try to satisfy it with making b bigger and bigger\n",
    "        \"\"\"\n",
    "        #making step smaller and smaller to get precise value\n",
    "        for step in step_sizes:\n",
    "            w = np.array([latest_optimum,latest_optimum])\n",
    "            \n",
    "            #we can do this because convex\n",
    "            optimized = False\n",
    "            while not optimized:\n",
    "                for b in np.arange(-1*self.max_feature_value*b_range_multiple,\n",
    "                                   self.max_feature_value*b_range_multiple,\n",
    "                                   step*b_multiple):\n",
    "                    for transformation in transforms:\n",
    "                        w_t = w*transformation\n",
    "                        found_option = True\n",
    "                        \n",
    "                        #weakest link in SVM fundamentally\n",
    "                        #SMO attempts to fix this a bit\n",
    "                        # ti(xi.w+b) >=1\n",
    "                        for i in self.data:\n",
    "                            for xi in self.data[i]:\n",
    "                                yi=i\n",
    "                                if not yi*(np.dot(w_t,xi)+b)>=1:\n",
    "                                    found_option=False\n",
    "                        if found_option:\n",
    "                            \"\"\"\n",
    "                            all points in dataset satisfy y(w.x)+b>=1 for this cuurent w_t, b\n",
    "                            then put w,b in dict with ||w|| as key\n",
    "                            \"\"\"\n",
    "                            opt_dict[np.linalg.norm(w_t)]=[w_t,b]\n",
    "                \n",
    "                #after w[0] or w[1]<0 then values of w starts repeating itself because of transformation\n",
    "                #Think about it, it is easy\n",
    "                #print(w,len(opt_dict)) Try printing to understand\n",
    "                if w[0]<0:\n",
    "                    optimized=True\n",
    "                    print(\"optimized a step\")\n",
    "                else:\n",
    "                    w = w-step\n",
    "                    \n",
    "            # sorting ||w|| to put the smallest ||w|| at poition 0 \n",
    "            norms = sorted([n for n in opt_dict])\n",
    "            #optimal values of w,b\n",
    "            opt_choice = opt_dict[norms[0]]\n",
    "\n",
    "            self.w=opt_choice[0]\n",
    "            self.b=opt_choice[1]\n",
    "            \n",
    "            #start with new latest_optimum (initial values for w)\n",
    "            latest_optimum = opt_choice[0][0]+step*2\n",
    "    \n",
    "    def predict(self,features):\n",
    "        #sign(x.w+b)\n",
    "        classification = np.sign(np.dot(np.array(features),self.w)+self.b)\n",
    "        if classification!=0 and self.visualization:\n",
    "            self.ax.scatter(features[0],features[1],s=200,marker='*',c=self.colors[classification])\n",
    "        return (classification,np.dot(np.array(features),self.w)+self.b)\n",
    "    \n",
    "    def visualize(self):\n",
    "        [[self.ax.scatter(x[0],x[1],s=100,c=self.colors[i]) for x in data_dict[i]] for i in data_dict]\n",
    "        \n",
    "        # hyperplane = x.w+b (actually its a line)\n",
    "        # v = x0.w0+x1.w1+b -> x1 = (v-w[0].x[0]-b)/w1\n",
    "        #psv = 1     psv line ->  x.w+b = 1a small value of b we will increase it later\n",
    "        #nsv = -1    nsv line ->  x.w+b = -1\n",
    "        # dec = 0    db line  ->  x.w+b = 0\n",
    "        def hyperplane(x,w,b,v):\n",
    "            #returns a x2 value on line when given x1\n",
    "            return (-w[0]*x-b+v)/w[1]\n",
    "       \n",
    "        hyp_x_min= self.min_feature_value*0.9\n",
    "        hyp_x_max = self.max_feature_value*1.1\n",
    "        \n",
    "        # (w.x+b)=1\n",
    "        # positive support vector hyperplane\n",
    "        pav1 = hyperplane(hyp_x_min,self.w,self.b,1)\n",
    "        pav2 = hyperplane(hyp_x_max,self.w,self.b,1)\n",
    "        self.ax.plot([hyp_x_min,hyp_x_max],[pav1,pav2],'k')\n",
    "        \n",
    "        # (w.x+b)=-1\n",
    "        # negative support vector hyperplane\n",
    "        nav1 = hyperplane(hyp_x_min,self.w,self.b,-1)\n",
    "        nav2 = hyperplane(hyp_x_max,self.w,self.b,-1)\n",
    "        self.ax.plot([hyp_x_min,hyp_x_max],[nav1,nav2],'k')\n",
    "        \n",
    "        # (w.x+b)=0\n",
    "        # db support vector hyperplane\n",
    "        db1 = hyperplane(hyp_x_min,self.w,self.b,0)\n",
    "        db2 = hyperplane(hyp_x_max,self.w,self.b,0)\n",
    "        self.ax.plot([hyp_x_min,hyp_x_max],[db1,db2],'y--')\n",
    "        \n",
    "        \n",
    "#data \n",
    "from sklearn.datasets import load_iris\n",
    "dataset = load_iris()\n",
    "X = dataset.data\n",
    "Y = dataset.target\n",
    "combined = np.vstack((X[:100,2], X[:100,3])).T\n",
    "\n",
    "#print(dataset.feature_names)\n",
    "#print(X[:100,2])\n",
    "#print(len(X[:100,2]))\n",
    "#print(X[:100,3])\n",
    "#plt.scatter(X[:100,2], X[:100,3])\n",
    "\n",
    "#defining a basic data\n",
    "#data_dict = {-1:np.array([[1,0]]), 1:np.array([[3,4]])}\n",
    "\n",
    "data_dict = {-1:combined[0:50],1:combined[50:100]} \n",
    "\n",
    "svm = SVM() # Linear Kernel\n",
    "svm.fit(data=data_dict)\n",
    "svm.visualize()\n",
    "\n",
    "svm.predict([3,8])\n"
   ]
  },
  {
   "cell_type": "code",
   "execution_count": 84,
   "id": "bdb23d66",
   "metadata": {},
   "outputs": [
    {
     "name": "stdout",
     "output_type": "stream",
     "text": [
      "[[1.4 0.2]\n",
      " [1.4 0.2]\n",
      " [1.3 0.2]\n",
      " [1.5 0.2]\n",
      " [1.4 0.2]\n",
      " [1.7 0.4]\n",
      " [1.4 0.3]\n",
      " [1.5 0.2]\n",
      " [1.4 0.2]\n",
      " [1.5 0.1]\n",
      " [1.5 0.2]\n",
      " [1.6 0.2]\n",
      " [1.4 0.1]\n",
      " [1.1 0.1]\n",
      " [1.2 0.2]\n",
      " [1.5 0.4]\n",
      " [1.3 0.4]\n",
      " [1.4 0.3]\n",
      " [1.7 0.3]\n",
      " [1.5 0.3]\n",
      " [1.7 0.2]\n",
      " [1.5 0.4]\n",
      " [1.  0.2]\n",
      " [1.7 0.5]\n",
      " [1.9 0.2]\n",
      " [1.6 0.2]\n",
      " [1.6 0.4]\n",
      " [1.5 0.2]\n",
      " [1.4 0.2]\n",
      " [1.6 0.2]\n",
      " [1.6 0.2]\n",
      " [1.5 0.4]\n",
      " [1.5 0.1]\n",
      " [1.4 0.2]\n",
      " [1.5 0.2]\n",
      " [1.2 0.2]\n",
      " [1.3 0.2]\n",
      " [1.4 0.1]\n",
      " [1.3 0.2]\n",
      " [1.5 0.2]\n",
      " [1.3 0.3]\n",
      " [1.3 0.3]\n",
      " [1.3 0.2]\n",
      " [1.6 0.6]\n",
      " [1.9 0.4]\n",
      " [1.4 0.3]\n",
      " [1.6 0.2]\n",
      " [1.4 0.2]\n",
      " [1.5 0.2]\n",
      " [1.4 0.2]]\n",
      "50\n",
      "[[4.7 1.4]\n",
      " [4.5 1.5]\n",
      " [4.9 1.5]\n",
      " [4.  1.3]\n",
      " [4.6 1.5]\n",
      " [4.5 1.3]\n",
      " [4.7 1.6]\n",
      " [3.3 1. ]\n",
      " [4.6 1.3]\n",
      " [3.9 1.4]\n",
      " [3.5 1. ]\n",
      " [4.2 1.5]\n",
      " [4.  1. ]\n",
      " [4.7 1.4]\n",
      " [3.6 1.3]\n",
      " [4.4 1.4]\n",
      " [4.5 1.5]\n",
      " [4.1 1. ]\n",
      " [4.5 1.5]\n",
      " [3.9 1.1]\n",
      " [4.8 1.8]\n",
      " [4.  1.3]\n",
      " [4.9 1.5]\n",
      " [4.7 1.2]\n",
      " [4.3 1.3]\n",
      " [4.4 1.4]\n",
      " [4.8 1.4]\n",
      " [5.  1.7]\n",
      " [4.5 1.5]\n",
      " [3.5 1. ]\n",
      " [3.8 1.1]\n",
      " [3.7 1. ]\n",
      " [3.9 1.2]\n",
      " [5.1 1.6]\n",
      " [4.5 1.5]\n",
      " [4.5 1.6]\n",
      " [4.7 1.5]\n",
      " [4.4 1.3]\n",
      " [4.1 1.3]\n",
      " [4.  1.3]\n",
      " [4.4 1.2]\n",
      " [4.6 1.4]\n",
      " [4.  1.2]\n",
      " [3.3 1. ]\n",
      " [4.2 1.3]\n",
      " [4.2 1.2]\n",
      " [4.2 1.3]\n",
      " [4.3 1.3]\n",
      " [3.  1.1]\n",
      " [4.1 1.3]]\n"
     ]
    },
    {
     "data": {
      "image/png": "[encoded data removed]",
      "text/plain": [
       "<Figure size 432x288 with 1 Axes>"
      ]
     },
     "metadata": {},
     "output_type": "display_data"
    }
   ],
   "source": [
    "from sklearn.datasets import load_iris\n",
    "dataset = load_iris()\n",
    "X = dataset.data\n",
    "Y = dataset.target\n",
    "#print(dataset.feature_names)\n",
    "#print(X[:100,2])\n",
    "#print(len(X[:100,2]))\n",
    "#print(X[:100,3])\n",
    "plt.scatter(X[:100,2], X[:100,3])\n",
    "\n",
    "#print(np.asarray(X[:100,2]))\n",
    "#print(np.asarray(X[:100,3]))\n",
    "#print(np.array([1,0]))\n",
    "\n",
    "#{-1:np.array([[1.4,1.4, 1.3, 1.5, 1.4, 1.7, 1.4, 1.5, 1.4, 1.5, 1.5, 1.6, 1.4, 1.1, 1.2, 1.5, 1.3, 1.4,\n",
    "# 1.7, 1.5, 1.7, 1.5, 1.,  1.7, 1.9, 1.6, 1.6, 1.5, 1.4, 1.6, 1.6, 1.5, 1.5, 1.4, 1.5, 1.2,\n",
    "# 1.3, 1.4, 1.3, 1.5, 1.3, 1.3, 1.3, 1.6, 1.9, 1.4, 1.6, 1.4, 1.5, 1.4, 4.7, 4.5, 4.9, 4.,\n",
    "# 4.6, 4.5, 4.7, 3.3, 4.6, 3.9, 3.5, 4.2, 4.,  4.7, 3.6, 4.4, 4.5, 4.1, 4.5, 3.9, 4.8, 4.,\n",
    "# 4.9, 4.7, 4.3, 4.4, 4.8, 5.,  4.5, 3.5, 3.8, 3.7, 3.9, 5.1, 4.5, 4.5, 4.7, 4.4, 4.1, 4.,\n",
    "# 4.4, 4.6, 4.,  3.3, 4.2, 4.2, 4.2, 4.3, 3.,  4.1]]),1:np.array([[0.2, 0.2, 0.2, 0.2, 0.2, 0.4, 0.3, 0.2, 0.2, 0.1, 0.2, 0.2, 0.1, 0.1, 0.2, 0.4, 0.4, 0.3,\n",
    "# 0.3, 0.3, 0.2, 0.4, 0.2, 0.5, 0.2, 0.2, 0.4, 0.2, 0.2, 0.2, 0.2, 0.4, 0.1, 0.2, 0.2, 0.2,\n",
    "# 0.2, 0.1, 0.2, 0.2, 0.3, 0.3, 0.2, 0.6, 0.4, 0.3, 0.2, 0.2, 0.2, 0.2, 1.4, 1.5, 1.5, 1.3,\n",
    "# 1.5, 1.3, 1.6, 1.,  1.3, 1.4, 1.,  1.5, 1.,  1.4, 1.3, 1.4, 1.5, 1.,  1.5, 1.1, 1.8, 1.3,\n",
    "# 1.5, 1.2, 1.3, 1.4, 1.4, 1.7, 1.5, 1.,  1.1, 1.,  1.2, 1.6, 1.5, 1.6, 1.5, 1.3, 1.3, 1.3,\n",
    "# 1.2, 1.4, 1.2, 1.,  1.3, 1.2, 1.3, 1.3, 1.1, 1.3]])} \n",
    "combined = np.vstack((X[:100,2], X[:100,3])).T\n",
    "print(combined[0:50])\n",
    "print(len(combined[0:50]))\n",
    "print(combined[50:100])"
   ]
  },
  {
   "cell_type": "code",
   "execution_count": null,
   "id": "0843a773",
   "metadata": {},
   "outputs": [],
   "source": []
  },
  {
   "cell_type": "code",
   "execution_count": null,
   "id": "4e6954f9",
   "metadata": {},
   "outputs": [],
   "source": []
  }
 ],
 "metadata": {
  "kernelspec": {
   "display_name": "Python 3",
   "language": "python",
   "name": "python3"
  },
  "language_info": {
   "codemirror_mode": {
    "name": "ipython",
    "version": 3
   },
   "file_extension": ".py",
   "mimetype": "text/x-python",
   "name": "python",
   "nbconvert_exporter": "python",
   "pygments_lexer": "ipython3",
   "version": "3.8.8"
  }
 },
 "nbformat": 4,
 "nbformat_minor": 5
}
