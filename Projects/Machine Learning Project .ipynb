{
 "cells": [
  {
   "cell_type": "markdown",
   "id": "9e69c6a1",
   "metadata": {},
   "source": [
    "# Final Project: Machine Learning "
   ]
  },
  {
   "cell_type": "markdown",
   "id": "eeb57fbc",
   "metadata": {},
   "source": [
    "## Weilun Tang "
   ]
  },
  {
   "cell_type": "markdown",
   "id": "f613ba94",
   "metadata": {},
   "source": [
    "# 12/02/2021"
   ]
  },
  {
   "cell_type": "markdown",
   "id": "0a356082",
   "metadata": {},
   "source": [
    "# Machine Learning "
   ]
  },
  {
   "cell_type": "markdown",
   "id": "1ccdd395",
   "metadata": {},
   "source": [
    "A machine learning algorithm is a computational process that uses input data to achieve a desired task without being literally programmed to produce a particular outcome. The algorithm learns from the data and adapt themselves from their experience in order to achieve their task better. The process of adaptation is called training. The process of the machine learning from the data is identical to how human being learn. \n",
    "\n",
    "There are two types of learning, unsupervised learning and supervised learning. "
   ]
  },
  {
   "cell_type": "markdown",
   "id": "e19cd6a8",
   "metadata": {},
   "source": [
    "## Supervised Learning "
   ]
  },
  {
   "cell_type": "markdown",
   "id": "3baad0f6",
   "metadata": {},
   "source": [
    "Unsupervised learning is the algorithms that discover the patterns without any human intervention. By contrast, supervised learning is to use labeled datasets to train the algorithms in order to classify data or predict outcomes accurately. There are two types of problems in supervised learning, classification and regression"
   ]
  },
  {
   "cell_type": "markdown",
   "id": "28f5e727",
   "metadata": {},
   "source": [
    "### Classification "
   ]
  },
  {
   "cell_type": "markdown",
   "id": "74674092",
   "metadata": {},
   "source": [
    "Classfication is to use the algorithm to assign test data into specific categories. The test data is used to train the machine, and it will recognize the pattern and label data in appropriate class."
   ]
  },
  {
   "cell_type": "markdown",
   "id": "7cb53068",
   "metadata": {},
   "source": [
    "### Regression "
   ]
  },
  {
   "cell_type": "markdown",
   "id": "0ae201d3",
   "metadata": {},
   "source": [
    "Regression is to use the algorithm to understand the relationship between dependent and independent variables. It is often used in business."
   ]
  },
  {
   "cell_type": "markdown",
   "id": "7aed1cac",
   "metadata": {},
   "source": [
    "# Bias and Variance "
   ]
  },
  {
   "cell_type": "markdown",
   "id": "e314acda",
   "metadata": {},
   "source": [
    "In machine learning, bias is the inability of the estimation to represent the true relationship of the data. If the estimation is high biased, the estimation does not show the true relationship well. By contrast, the estimation show the true relationship well if the estimation is low bias."
   ]
  },
  {
   "cell_type": "markdown",
   "id": "39261585",
   "metadata": {},
   "source": [
    "![](bias.png)"
   ]
  },
  {
   "cell_type": "markdown",
   "id": "6eef0793",
   "metadata": {},
   "source": [
    "In the figure above, the machine learning algorithms for the same dataset are linear regression and squiggly line. In the linear regression, the distance from the data points to the straight line is relatively large compared to the squiggly line. The straight line is high bias, and the squiggly line is low bias."
   ]
  },
  {
   "cell_type": "markdown",
   "id": "2672ea17",
   "metadata": {},
   "source": [
    "Variance is the difference in fits between data sets. If the linear regression and the squiggly line are used for another data set as it is shown in the figure below. The distance from the data points to the straight line is relatively the same compared to the last data. However, the distace from the data points to the squiggly line increases significantly. This example shows that the straight line has low variance. The low varibility shows that the sum of the squares is relatively the same for every data set. By contrast, the squiggly line has high variance. The high varibility shows that the sum of the squares varies significantly between data sets. "
   ]
  },
  {
   "cell_type": "markdown",
   "id": "204962ef",
   "metadata": {},
   "source": [
    "![](variance.png)"
   ]
  },
  {
   "cell_type": "markdown",
   "id": "4dcc007d",
   "metadata": {},
   "source": [
    "# Support Vector Machine (SVM)"
   ]
  },
  {
   "cell_type": "markdown",
   "id": "42f590bf",
   "metadata": {},
   "source": [
    "## Basic Idea of SVM"
   ]
  },
  {
   "cell_type": "markdown",
   "id": "4dc20fb9",
   "metadata": {},
   "source": [
    "Support-vector machines (SVMs) are the most commonly used supervised learning models for classification. The method is to generate some hyperplanes in order to classify data. "
   ]
  },
  {
   "cell_type": "markdown",
   "id": "c38236e3",
   "metadata": {},
   "source": [
    "![](svmimage.png)"
   ]
  },
  {
   "cell_type": "markdown",
   "id": "36fcc669",
   "metadata": {},
   "source": [
    "Consider the image above, the blue colored diamonds and green circles are two classes. There is a black solid line that seperates two classes. This line is called the hyperplane. By definition, a hyperplane is a subspace whose dimension is one less than that of its ambient space. In this example, the two classes of data are 2-dimensional. The black solid line is 1-dimensional. Thus, the line is the hyperplane for this data set. The shortest distance from a data point of a class to the hyperplane is called the maximum margin, so the hyperplane is called the maximal margin classifier."
   ]
  },
  {
   "cell_type": "markdown",
   "id": "1701c56a",
   "metadata": {},
   "source": [
    "The position of the hyperplane is not usually determined by the maximum margin. Consider a case that one of the class has an outlier as it is shown below "
   ]
  },
  {
   "cell_type": "markdown",
   "id": "51527ca0",
   "metadata": {},
   "source": [
    "![](svmOutlier.png)"
   ]
  },
  {
   "cell_type": "markdown",
   "id": "cf7da978",
   "metadata": {},
   "source": [
    "The blue stars and red circles are two classes, and they are showing in a 2-dimensional plane. The class of blue stars has an outlier, and it is near the class of red circles. If the hyperplane is placed in the middle as the figure above, it is difficult to classify if a new data point is on the right side of the hyperplane. If maximal margin classifier is used in this case, the majority of the blue stars is far away from the classifier. Therefore, the maximal margin classifier is sensitive to the outlier. The sensitivity of the maximal margin classifier shows that the classifier is low bias but high variance. "
   ]
  },
  {
   "cell_type": "markdown",
   "id": "05be8427",
   "metadata": {},
   "source": [
    "The solution to this problem is to allow misclassification. Place the hyperplane as it is shown in the figure above. The outlier of the blue stars is the misclassifications. However, if there is a new data point on the right side of the hyperplane, it is classified as the red circle class. When misclassifications are allowed, the distance between the data to the hyperplane is now called a soft margin. The hyperplane is called the soft margin classifier. Moreover, the soft margin classifier is also called as support vector classifier. The data points on the edge of the soft margin is called support vectors."
   ]
  },
  {
   "cell_type": "markdown",
   "id": "e3b5fe10",
   "metadata": {},
   "source": [
    "## Hinge Loss Function "
   ]
  },
  {
   "cell_type": "markdown",
   "id": "9dea9624",
   "metadata": {},
   "source": [
    "Loss function is usually used for measuring the loss of a specific model. Loss function is also called the cost function or error function. It shows that how well the data fits the model. Sum of the squares is one of the common error functions."
   ]
  },
  {
   "cell_type": "markdown",
   "id": "89248d95",
   "metadata": {},
   "source": [
    "Hinge loss function is commonly used for SVM. The visualization of a Hinge loss function is shown below. "
   ]
  },
  {
   "cell_type": "markdown",
   "id": "c329cfcc",
   "metadata": {},
   "source": [
    "![](hinge.png)"
   ]
  },
  {
   "cell_type": "markdown",
   "id": "201e8728",
   "metadata": {},
   "source": [
    "The x-axis is the numbers of the data. The negative direction of the x-axis is when the model incorrectly classified the data, the positive direction of the x-axis is when the model correctly classified the model. The y-axis is the loss size or error. The dash line is at when x = 1. In x > 1 region, all of the data is correctly classified. In x < -1 region, all of the data is incorrectly classified with some losses."
   ]
  },
  {
   "cell_type": "markdown",
   "id": "23384229",
   "metadata": {},
   "source": [
    "# Mathematical Background "
   ]
  },
  {
   "cell_type": "markdown",
   "id": "f7af12fb",
   "metadata": {},
   "source": [
    "## Decision Rule"
   ]
  },
  {
   "cell_type": "markdown",
   "id": "cb95e242",
   "metadata": {},
   "source": [
    "![](svmVectorImage.png)"
   ]
  },
  {
   "cell_type": "markdown",
   "id": "b7813e4c",
   "metadata": {},
   "source": [
    "Consider a vector $\\vec{w}$ that is normal to the hyperplane. An unknown vector $\\vec{u}$ is an arbitrary vector. In the figure above, the unknown vector u is placed on the left side of the hyperplane. In order to classify an unknown vector, a decision rule needs to be introduced. Take the dot product of vectors $\\vec{u}$ and $\\vec{w}$. The dot product is just the projection of vector u onto vector w. The dot product is equal or greater than some constant b. The equation becomes  "
   ]
  },
  {
   "cell_type": "markdown",
   "id": "04d01c80",
   "metadata": {},
   "source": [
    "\\begin{equation}\n",
    "\\vec{w} \\cdot \\vec{u} \\geq - b\n",
    "\\end{equation} \n",
    "\n",
    "\\begin{equation}\n",
    "\\vec{w} \\cdot \\vec{u} + b \\geq 0 \n",
    "\\end{equation}"
   ]
  },
  {
   "cell_type": "markdown",
   "id": "c26e2f4d",
   "metadata": {},
   "source": [
    "This is the decision rule whether the unknow vector is on the right side of the hyperplane. The decision rule can be used to classify whether the sample is a positve or negative sample"
   ]
  },
  {
   "cell_type": "markdown",
   "id": "2f556a08",
   "metadata": {},
   "source": [
    "\\begin{equation}\n",
    "\\vec{w} \\cdot \\vec{x_+} + b \\geq 1\n",
    "\\end{equation}\n",
    "\n",
    "\\begin{equation}\n",
    "\\vec{w} \\cdot \\vec{x_-} + b \\leq 1\n",
    "\\end{equation}"
   ]
  },
  {
   "cell_type": "markdown",
   "id": "0cfcc396",
   "metadata": {},
   "source": [
    "where $\\vec{x_+}$ is the positive sample vector and $\\vec{x_-}$ is the negative sample vector. The equation $\\vec{w} \\cdot \\vec{x_+} + b \\pm 1$ is the equation of the two gutters. \n",
    "\n",
    "It is more convenient to introduce a new variable to turn these two equations into one equation."
   ]
  },
  {
   "cell_type": "markdown",
   "id": "80cb0588",
   "metadata": {},
   "source": [
    "\\begin{equation}\n",
    "y_i = 1 for + sample\n",
    "\\end{equation}\n",
    "\n",
    "\\begin{equation}\n",
    "y_i = -1 for - sample\n",
    "\\end{equation}"
   ]
  },
  {
   "cell_type": "markdown",
   "id": "cbbe258b",
   "metadata": {},
   "source": [
    "Multiply the new variable $y_i$ to the two equations above to get "
   ]
  },
  {
   "cell_type": "markdown",
   "id": "3a9069db",
   "metadata": {},
   "source": [
    "\\begin{equation}\n",
    "y_i (\\vec{w} \\cdot \\vec{x_+} + b) \\geq 1 \n",
    "\\end{equation}"
   ]
  },
  {
   "cell_type": "markdown",
   "id": "35afe8f5",
   "metadata": {},
   "source": [
    "\\begin{equation}\n",
    "y_i (\\vec{w} \\cdot \\vec{x_-} + b) \\geq 1\n",
    "\\end{equation}"
   ]
  },
  {
   "cell_type": "markdown",
   "id": "208dbe74",
   "metadata": {},
   "source": [
    "It turns out that the two equations are the same. Write them with the same index "
   ]
  },
  {
   "cell_type": "markdown",
   "id": "2c4cf16a",
   "metadata": {},
   "source": [
    "\\begin{equation}\n",
    "y_i (\\vec{w} \\cdot \\vec{x_i} + b) - 1 \\geq 0\n",
    "\\end{equation}"
   ]
  },
  {
   "cell_type": "markdown",
   "id": "ce5a7293",
   "metadata": {},
   "source": [
    "Moreover, when this equation is equal to 0, it is for the sample that it is in the gutters."
   ]
  },
  {
   "cell_type": "markdown",
   "id": "57f473fb",
   "metadata": {},
   "source": [
    "\\begin{equation}\n",
    "y_i (\\vec{w} \\cdot \\vec{x_i} + b) - 1 = 0\n",
    "\\end{equation}"
   ]
  },
  {
   "cell_type": "markdown",
   "id": "e44fc3b8",
   "metadata": {},
   "source": [
    "## Width of the Street "
   ]
  },
  {
   "cell_type": "markdown",
   "id": "d056554a",
   "metadata": {},
   "source": [
    "![](svmStreet.png)"
   ]
  },
  {
   "cell_type": "markdown",
   "id": "0471bf11",
   "metadata": {},
   "source": [
    "Consider a positive and negative sample vectors that are in the gutters. The difference of these two vectors are $\\vec{x_+} - \\vec{x_-}$. If there is a unit vector $\\hat w$ that is normal to the hyperplane, the dot product of the seperation vector and the unit vector $(\\vec{x_+} - \\vec{x_-}) \\cdot \\hat w$ is the width of the street."
   ]
  },
  {
   "cell_type": "markdown",
   "id": "71f0dade",
   "metadata": {},
   "source": [
    "\\begin{equation}\n",
    "width = (\\vec{x_+} - \\vec{x_-}) \\cdot \\frac{\\vec{w}}{|\\vec{w}|}\n",
    "\\end{equation}"
   ]
  },
  {
   "cell_type": "markdown",
   "id": "03cdef3a",
   "metadata": {},
   "source": [
    "Use equation $y_i (\\vec{w} \\cdot \\vec{x_i} + b) - 1 = 0$ to find an expression for the postive and negative samples. "
   ]
  },
  {
   "cell_type": "markdown",
   "id": "bf8610ce",
   "metadata": {},
   "source": [
    "\\begin{equation}\n",
    "\\vec{x_+} = 1 - b\n",
    "\\end{equation}"
   ]
  },
  {
   "cell_type": "markdown",
   "id": "6eaba98f",
   "metadata": {},
   "source": [
    "\\begin{equation}\n",
    "-\\vec{x_-} = 1 + b\n",
    "\\end{equation}"
   ]
  },
  {
   "cell_type": "markdown",
   "id": "612d875c",
   "metadata": {},
   "source": [
    "The final equation of the width becomes "
   ]
  },
  {
   "cell_type": "markdown",
   "id": "8d95e6c5",
   "metadata": {},
   "source": [
    "\\begin{equation}\n",
    "width = \\frac{2}{|\\vec{w}|}\n",
    "\\end{equation}"
   ]
  },
  {
   "cell_type": "markdown",
   "id": "7596be22",
   "metadata": {},
   "source": [
    "In svm, the hyperplane is placed in where the width of the street is maximum. The maximization of the width can be simplify further to minimize the function $\\frac{1}{2} |\\vec{w}|^2$. This function has a constraint such that $y_i (\\vec{w} \\cdot \\vec{x_i} + b) - 1 = 0$. Therefore, this is an optimizing problem with a constraint. The method to solve this is the Lagrange multiplier. The Lagrangian can be written as "
   ]
  },
  {
   "cell_type": "markdown",
   "id": "4f1db73b",
   "metadata": {},
   "source": [
    "\\begin{equation}\n",
    "L = \\frac{1}{2}|\\vec{w}|^2 - \\sum \\alpha_i [y_i (\\vec{w} \\cdot \\vec{x_i} + b) - 1]\n",
    "\\end{equation}"
   ]
  },
  {
   "cell_type": "markdown",
   "id": "84243c5d",
   "metadata": {},
   "source": [
    "Take the partial derivative with respect to the variables and set it equal to 0"
   ]
  },
  {
   "cell_type": "markdown",
   "id": "c60b8c19",
   "metadata": {},
   "source": [
    "\\begin{equation}\n",
    "\\frac{\\partial L}{\\partial \\vec{w}} = \\vec{w} - \\sum \\alpha_i y_i \\vec{x_i} = 0 \\\\\n",
    "\\end{equation}"
   ]
  },
  {
   "cell_type": "markdown",
   "id": "951f3f4a",
   "metadata": {},
   "source": [
    "\\begin{equation}\n",
    "\\vec{w} = \\sum \\alpha_i y_i \\vec{x_i}\n",
    "\\end{equation}"
   ]
  },
  {
   "cell_type": "markdown",
   "id": "2b4d3a39",
   "metadata": {},
   "source": [
    "\\begin{equation}\n",
    "\\frac{\\partial L}{\\partial b} = \\sum \\alpha_i y_i = 0 \\\\\n",
    "\\end{equation}"
   ]
  },
  {
   "cell_type": "markdown",
   "id": "bede1132",
   "metadata": {},
   "source": [
    "\\begin{equation}\n",
    "\\sum \\alpha_i y_i = 0 \n",
    "\\end{equation}"
   ]
  },
  {
   "cell_type": "markdown",
   "id": "2f2327c6",
   "metadata": {},
   "source": [
    "Substitute the results from the partial derivative back to the Lagrangian to get "
   ]
  },
  {
   "cell_type": "markdown",
   "id": "82b72bf7",
   "metadata": {},
   "source": [
    "\\begin{equation}\n",
    "L = \\frac{1}{2} (\\sum_{i} \\alpha_i y_i \\vec{x_i}) (\\sum_{j} \\alpha_j y_j \\vec{x_j}) - (\\sum_{i} \\alpha_i y_i \\vec{x_i}) (\\sum_{j} \\alpha_j y_j \\vec{x_j}) - \\sum_{i} \\alpha_i y_i b_i + \\sum_{i} \\alpha_i \\\\\n",
    "L = \\sum_{i} \\alpha_i - \\frac{1}{2} \\sum_{i} \\sum_{j} \\alpha_i \\alpha_j y_i y_j \\vec{x_i} \\cdot \\vec{x_j}\n",
    "\\end{equation}"
   ]
  },
  {
   "cell_type": "markdown",
   "id": "4acb1d8c",
   "metadata": {},
   "source": [
    "## Convex Optimization "
   ]
  },
  {
   "cell_type": "markdown",
   "id": "8bd875c8",
   "metadata": {},
   "source": [
    "A convex set C is the set that the convex sum is in the set. The convex sum is defined as \n",
    "\n",
    "\\begin{equation}\n",
    "\\alpha x_1 + (1 - \\alpha) x_2 \\in C\n",
    "\\end{equation}\n",
    "\n",
    "where $\\alpha$ is the weight and its value is a fraction. $x_1$ and $x_2$ are the two objects in the set C. Graphically, a convex set can be represented by a Convex polygon. Pick two objects and connect them together. The convex sum is the line segment formed by these two objects, and the line segment is also in the convex set. Finally, hyperplanes are convex set. Therefore, convex optimization can be used to optimize the hyperplane.\n",
    "\n",
    "Another clue that shows convex optimization can be used is from the Lagrangian above. The first term contains one $\\alpha$ and the second term contains two $\\alpha$. That indicates this is a quadratic optimization problem.\n",
    "\n",
    "Convex functions have some properties such that any local minimum is a global minimum. Therefore, there is only one minimum in the convex optimization problem."
   ]
  },
  {
   "cell_type": "markdown",
   "id": "77e8eee8",
   "metadata": {},
   "source": [
    "# SVM Program"
   ]
  },
  {
   "cell_type": "markdown",
   "id": "3eb4cd46",
   "metadata": {},
   "source": [
    "## Imports "
   ]
  },
  {
   "cell_type": "code",
   "execution_count": 99,
   "id": "50379047",
   "metadata": {},
   "outputs": [],
   "source": [
    "import matplotlib.pyplot as plt\n",
    "from matplotlib import style\n",
    "style.use('ggplot')\n",
    "import numpy as np\n",
    "import time\n",
    "from sklearn.datasets import load_iris\n",
    "from sklearn import svm"
   ]
  },
  {
   "cell_type": "markdown",
   "id": "2f46d85b",
   "metadata": {},
   "source": [
    "## SVM Class"
   ]
  },
  {
   "cell_type": "code",
   "execution_count": 100,
   "id": "682a1fe5",
   "metadata": {},
   "outputs": [],
   "source": [
    "%matplotlib inline\n",
    "\n",
    "class SVM(object):\n",
    "    def __init__(self,visualization=True):                #Dunder method, double underscores.\n",
    "                                                          #Self is used to reer to attributes \n",
    "        self.visualization = visualization                #Define an attribute \n",
    "        self.colors = {1:'r',-1:'b'}                      #Define an attribute \n",
    "        if self.visualization:\n",
    "            self.fig = plt.figure()\n",
    "            self.ax = self.fig.add_subplot(1,1,1)\n",
    "    \n",
    "    def fit(self,data):\n",
    "        #train with data\n",
    "        self.data = data\n",
    "        # { |\\w\\|:{w,b}}\n",
    "        opt_dict = {}\n",
    "        \n",
    "        transforms = [[1,1],[-1,1],[-1,-1],[1,-1]]\n",
    "        \n",
    "        all_data = np.array([])\n",
    "        for yi in self.data:\n",
    "            all_data = np.append(all_data,self.data[yi])    #Store data in a numpy array\n",
    "                    \n",
    "        self.max_feature_value = max(all_data)              #Max value of data \n",
    "        self.min_feature_value = min(all_data)              #Min Value of data \n",
    "        all_data = None\n",
    "        \n",
    "        #with smaller steps our margins and db will be more precise\n",
    "        step_sizes = [self.max_feature_value * 0.1,\n",
    "                      self.max_feature_value * 0.01,\n",
    "                      #point of expense\n",
    "                      self.max_feature_value * 0.001,]\n",
    "        \n",
    "        #extremly expensise\n",
    "        b_range_multiple = 5\n",
    "        #we dont need to take as small step as w\n",
    "        b_multiple = 5\n",
    "        \n",
    "        latest_optimum = self.max_feature_value*10\n",
    "        \n",
    "        \"\"\"\n",
    "        objective is to satisfy yi(x.w)+b>=1 for all training dataset such that ||w|| is minimum\n",
    "        for this we will start with random w, and try to satisfy it with making b bigger and bigger\n",
    "        \"\"\"\n",
    "        #making step smaller and smaller to get precise value\n",
    "        for step in step_sizes:\n",
    "            w = np.array([latest_optimum,latest_optimum])\n",
    "            \n",
    "            #we can do this because convex\n",
    "            optimized = False\n",
    "            while not optimized:\n",
    "                for b in np.arange(-1*self.max_feature_value*b_range_multiple,\n",
    "                                   self.max_feature_value*b_range_multiple,\n",
    "                                   step*b_multiple):\n",
    "                    for transformation in transforms:\n",
    "                        w_t = w*transformation\n",
    "                        found_option = True\n",
    "                        \n",
    "                        #weakest link in SVM fundamentally\n",
    "                        #SMO attempts to fix this a bit\n",
    "                        # ti(xi.w+b) >=1\n",
    "                        for i in self.data:\n",
    "                            for xi in self.data[i]:\n",
    "                                yi=i\n",
    "                                if not yi*(np.dot(w_t,xi)+b)>=1:\n",
    "                                    found_option=False\n",
    "                        if found_option:\n",
    "                            \"\"\"\n",
    "                            all points in dataset satisfy y(w.x)+b>=1 for this cuurent w_t, b\n",
    "                            then put w,b in dict with ||w|| as key\n",
    "                            \"\"\"\n",
    "                            opt_dict[np.linalg.norm(w_t)]=[w_t,b]\n",
    "                \n",
    "                #after w[0] or w[1]<0 then values of w starts repeating itself because of transformation\n",
    "                #Think about it, it is easy\n",
    "                #print(w,len(opt_dict)) Try printing to understand\n",
    "                if w[0]<0:\n",
    "                    optimized=True\n",
    "                    print(\"optimized a step\")\n",
    "                else:\n",
    "                    w = w-step\n",
    "                    \n",
    "            # sorting ||w|| to put the smallest ||w|| at poition 0 \n",
    "            norms = sorted([n for n in opt_dict])\n",
    "            #optimal values of w,b\n",
    "            opt_choice = opt_dict[norms[0]]\n",
    "\n",
    "            self.w=opt_choice[0]\n",
    "            self.b=opt_choice[1]\n",
    "            \n",
    "            #start with new latest_optimum (initial values for w)\n",
    "            latest_optimum = opt_choice[0][0]+step*2\n",
    "    \n",
    "    def predict(self,features):\n",
    "        #sign(x.w+b)\n",
    "        classification = np.sign(np.dot(np.array(features),self.w)+self.b)\n",
    "        if classification!=0 and self.visualization:\n",
    "            self.ax.scatter(features[0],features[1],s=200,marker='x',c=self.colors[classification])\n",
    "        return (classification,np.dot(np.array(features),self.w)+self.b)\n",
    "    \n",
    "    def visualize(self):\n",
    "        [[self.ax.scatter(x[0],x[1],s=100,c=self.colors[i]) for x in data_dict[i]] for i in data_dict]\n",
    "        \n",
    "        # hyperplane = x.w+b (actually its a line)\n",
    "        # v = x0.w0+x1.w1+b -> x1 = (v-w[0].x[0]-b)/w1\n",
    "        #psv = 1     psv line ->  x.w+b = 1a small value of b we will increase it later\n",
    "        #nsv = -1    nsv line ->  x.w+b = -1\n",
    "        # dec = 0    db line  ->  x.w+b = 0\n",
    "        def hyperplane(x,w,b,v):\n",
    "            #returns a x2 value on line when given x1\n",
    "            return (-w[0]*x-b+v)/w[1]\n",
    "       \n",
    "        hyp_x_min= self.min_feature_value*0.9\n",
    "        hyp_x_max = self.max_feature_value*1.1\n",
    "        \n",
    "        # (w.x+b)=1\n",
    "        # positive support vector hyperplane\n",
    "        pav1 = hyperplane(hyp_x_min,self.w,self.b,1)\n",
    "        pav2 = hyperplane(hyp_x_max,self.w,self.b,1)\n",
    "        self.ax.plot([hyp_x_min,hyp_x_max],[pav1,pav2],'k--')\n",
    "        \n",
    "        # (w.x+b)=-1\n",
    "        # negative support vector hyperplane\n",
    "        nav1 = hyperplane(hyp_x_min,self.w,self.b,-1)\n",
    "        nav2 = hyperplane(hyp_x_max,self.w,self.b,-1)\n",
    "        self.ax.plot([hyp_x_min,hyp_x_max],[nav1,nav2],'k--')\n",
    "        \n",
    "        # (w.x+b)=0\n",
    "        # db support vector hyperplane\n",
    "        db1 = hyperplane(hyp_x_min,self.w,self.b,0)\n",
    "        db2 = hyperplane(hyp_x_max,self.w,self.b,0)\n",
    "        self.ax.plot([hyp_x_min,hyp_x_max],[db1,db2],'y')"
   ]
  },
  {
   "cell_type": "markdown",
   "id": "3e3fb8d2",
   "metadata": {},
   "source": [
    "## Main Loop"
   ]
  },
  {
   "cell_type": "code",
   "execution_count": 97,
   "id": "208a8115",
   "metadata": {},
   "outputs": [
    {
     "name": "stdout",
     "output_type": "stream",
     "text": [
      "optimized a step\n",
      "optimized a step\n",
      "optimized a step\n",
      "Took 303.1107180118561 seconds\n"
     ]
    },
    {
     "data": {
      "image/png": "[encoded data removed]",
      "text/plain": [
       "<Figure size 432x288 with 1 Axes>"
      ]
     },
     "metadata": {},
     "output_type": "display_data"
    }
   ],
   "source": [
    "t0 = time.time()  #initial time \n",
    "\n",
    "#Load iris data. Only use two attributes in this code. \n",
    "dataset = load_iris()\n",
    "X = dataset.data\n",
    "Y = dataset.target\n",
    "combined = np.vstack((X[:100,2], X[:100,3])).T        #This is a 100x2 array\n",
    "\n",
    "data_dict = {-1:combined[0:38],1:combined[50:87]} \n",
    "\n",
    "svm = SVM() # Linear Kernel\n",
    "svm.fit(data=data_dict)\n",
    "svm.visualize()\n",
    "\n",
    "for i in range(39,51):\n",
    "    svm.predict(combined[i])\n",
    "for j in range(88,100):\n",
    "    svm.predict(combined[j])\n",
    "    \n",
    "t1 = time.time()                #Final time \n",
    "print(f\"Took {t1-t0} seconds\")  #Show how many seconds it takes to run this program "
   ]
  },
  {
   "cell_type": "markdown",
   "id": "20f029b2",
   "metadata": {},
   "source": [
    "## SVM with Sciki Learn "
   ]
  },
  {
   "cell_type": "code",
   "execution_count": 144,
   "id": "eb4e9864",
   "metadata": {},
   "outputs": [
    {
     "name": "stdout",
     "output_type": "stream",
     "text": [
      "Class =  [1]\n",
      "Class =  [0]\n",
      "Class =  [0 1 1 1 0]\n"
     ]
    }
   ],
   "source": [
    "combined1 = np.vstack((X[:75,2], X[:75,3])).T           #75x2 array\n",
    "clf = svm.SVC()\n",
    "clf.fit(combined1[:,], Y[0:75])                         #svm training data \n",
    "\n",
    "#Test data \n",
    "print('Class = ',clf.predict([[X[76,2],X[76,3]]]))\n",
    "print('Class = ', clf.predict([[1,-1]]))\n",
    "\n",
    "sample = [[1,-0.5], [2,4], [3,6], [4,8], [0.1, -0.3]]\n",
    "print('Class = ', clf.predict(sample))\n"
   ]
  },
  {
   "cell_type": "markdown",
   "id": "6aae2c33",
   "metadata": {},
   "source": [
    "# Limitting case"
   ]
  },
  {
   "cell_type": "markdown",
   "id": "be798f39",
   "metadata": {},
   "source": [
    "## Maximal Margin Classifier is sensitive to outlier "
   ]
  },
  {
   "cell_type": "code",
   "execution_count": 155,
   "id": "9f22c6b7",
   "metadata": {},
   "outputs": [
    {
     "name": "stdout",
     "output_type": "stream",
     "text": [
      "optimized a step\n",
      "optimized a step\n",
      "optimized a step\n",
      "Took 7.955902814865112 seconds\n"
     ]
    },
    {
     "data": {
      "image/png": "[encoded data removed]",
      "text/plain": [
       "<Figure size 432x288 with 1 Axes>"
      ]
     },
     "metadata": {
      "needs_background": "light"
     },
     "output_type": "display_data"
    }
   ],
   "source": [
    "t0 = time.time()  #initial time \n",
    "\n",
    "data_dict = {-1:np.array([[1,1],[0,0], [-1,-1]]),1:np.array([[10,10], [11,11], [12,10], [13,15]])} \n",
    "svm1 = SVM()\n",
    "svm1.fit(data = data_dict)\n",
    "svm1.visualize()\n",
    "\n",
    "t1 = time.time()                #Final time \n",
    "print(f\"Took {t1-t0} seconds\")  #Show how many seconds it takes to run this program "
   ]
  },
  {
   "cell_type": "code",
   "execution_count": 156,
   "id": "da973f89",
   "metadata": {},
   "outputs": [
    {
     "name": "stdout",
     "output_type": "stream",
     "text": [
      "optimized a step\n",
      "optimized a step\n",
      "optimized a step\n",
      "Took 15.34405517578125 seconds\n"
     ]
    },
    {
     "data": {
      "image/png": "[encoded data removed]",
      "text/plain": [
       "<Figure size 432x288 with 1 Axes>"
      ]
     },
     "metadata": {
      "needs_background": "light"
     },
     "output_type": "display_data"
    }
   ],
   "source": [
    "t0 = time.time()  #initial time \n",
    "\n",
    "data_dict = {-1:np.array([[1,1],[0,0], [-1,-1], [8,8]]),1:np.array([[10,10], [11,11], [12,10]])} \n",
    "svm1 = SVM()\n",
    "svm1.fit(data = data_dict)\n",
    "svm1.visualize()\n",
    "\n",
    "t1 = time.time()                #Final time \n",
    "print(f\"Took {t1-t0} seconds\")  #Show how many seconds it takes to run this program "
   ]
  },
  {
   "cell_type": "markdown",
   "id": "71a9d887",
   "metadata": {},
   "source": [
    "The solution is to allow disclassification. The maximum margin is then called the soft margin. "
   ]
  },
  {
   "cell_type": "markdown",
   "id": "513b2a3f",
   "metadata": {},
   "source": [
    "![](softmargin.png)"
   ]
  },
  {
   "cell_type": "markdown",
   "id": "6d6816e8",
   "metadata": {},
   "source": [
    "Then, the classifier is now called the soft margin classifier or support vector classifier."
   ]
  },
  {
   "cell_type": "markdown",
   "id": "280b3c36",
   "metadata": {},
   "source": [
    "## Kernel Trick"
   ]
  },
  {
   "cell_type": "markdown",
   "id": "74769dc4",
   "metadata": {},
   "source": [
    "Support vector classfier cannot classifier data that is not linearly separable. In this case, one must use the Kernel trick to transform data to another space where the data is linearly seperable. "
   ]
  },
  {
   "cell_type": "markdown",
   "id": "43b7adba",
   "metadata": {},
   "source": [
    "![](kerneltrick.png)"
   ]
  },
  {
   "cell_type": "code",
   "execution_count": null,
   "id": "927b457d",
   "metadata": {},
   "outputs": [],
   "source": []
  }
 ],
 "metadata": {
  "kernelspec": {
   "display_name": "Python 3",
   "language": "python",
   "name": "python3"
  },
  "language_info": {
   "codemirror_mode": {
    "name": "ipython",
    "version": 3
   },
   "file_extension": ".py",
   "mimetype": "text/x-python",
   "name": "python",
   "nbconvert_exporter": "python",
   "pygments_lexer": "ipython3",
   "version": "3.8.8"
  }
 },
 "nbformat": 4,
 "nbformat_minor": 5
}
