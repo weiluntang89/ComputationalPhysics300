{
 "cells": [
  {
   "cell_type": "markdown",
   "id": "7ffb1472",
   "metadata": {},
   "source": [
    "# Introduction "
   ]
  },
  {
   "cell_type": "markdown",
   "id": "065c61e9",
   "metadata": {},
   "source": [
    "Weilun Tang "
   ]
  },
  {
   "cell_type": "markdown",
   "id": "3a3f282e",
   "metadata": {},
   "source": [
    "Written by 09/11/2021. Modified by 09/12/2021"
   ]
  },
  {
   "cell_type": "markdown",
   "id": "277f6053",
   "metadata": {},
   "source": [
    "This program is for approximating a given integral using the Simpson's rule"
   ]
  },
  {
   "cell_type": "markdown",
   "id": "a205a21c",
   "metadata": {},
   "source": [
    "# Imports "
   ]
  },
  {
   "cell_type": "code",
   "execution_count": 2,
   "id": "bc26e194",
   "metadata": {},
   "outputs": [],
   "source": [
    "import numpy as np"
   ]
  },
  {
   "cell_type": "markdown",
   "id": "4595e95a",
   "metadata": {},
   "source": [
    "# Functions"
   ]
  },
  {
   "cell_type": "code",
   "execution_count": 3,
   "id": "bfb1bbe3",
   "metadata": {},
   "outputs": [],
   "source": [
    "def simpson(start, end, n):                 #n must be even\n",
    "    f = lambda x: np.exp(-x**2)             #The integrand \n",
    "    \n",
    "    deltax = (end - start) / n\n",
    "    resultsx = np.linspace(start, end, n+1) # total x = n+1. n is the total intervals \n",
    "    resultsy = f(resultsx)\n",
    " \n",
    "    area = 0\n",
    "    for i in range(0,n,2): \n",
    "        area += 1/3*deltax*(resultsy[i]+4*resultsy[i+1]+resultsy[i+2])\n",
    "    return area"
   ]
  },
  {
   "cell_type": "markdown",
   "id": "15d0fb5e",
   "metadata": {},
   "source": [
    "# Main Loop "
   ]
  },
  {
   "cell_type": "code",
   "execution_count": 34,
   "id": "cc7bcea1",
   "metadata": {},
   "outputs": [
    {
     "data": {
      "text/plain": [
       "0.8862056184987952"
      ]
     },
     "execution_count": 34,
     "metadata": {},
     "output_type": "execute_result"
    }
   ],
   "source": [
    "simpson(0,3,8)       #The output is about the same when n > 8 and n is even\n",
    "                     #n = 8,     output: 0.8862056184987952\n",
    "                     #n = 10000, output: 0.8862073482595229"
   ]
  }
 ],
 "metadata": {
  "kernelspec": {
   "display_name": "Python 3",
   "language": "python",
   "name": "python3"
  }
 },
 "nbformat": 4,
 "nbformat_minor": 5
}
