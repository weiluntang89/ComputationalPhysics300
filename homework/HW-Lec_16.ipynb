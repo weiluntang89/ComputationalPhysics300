{
 "cells": [
  {
   "cell_type": "markdown",
   "id": "d8facc28",
   "metadata": {},
   "source": [
    "# Introduction "
   ]
  },
  {
   "cell_type": "markdown",
   "id": "891d6dad",
   "metadata": {},
   "source": [
    "Weilun Tang "
   ]
  },
  {
   "cell_type": "markdown",
   "id": "2ee13b42",
   "metadata": {},
   "source": [
    "Written by 11/05/2021"
   ]
  },
  {
   "cell_type": "markdown",
   "id": "a501d719",
   "metadata": {},
   "source": [
    "This program is to minimize a function f with variable step size, then use built-in minimization library from scipy to "
   ]
  },
  {
   "cell_type": "markdown",
   "id": "143c1cdf",
   "metadata": {},
   "source": [
    "# Imports"
   ]
  },
  {
   "cell_type": "code",
   "execution_count": 1,
   "id": "b72cea64",
   "metadata": {},
   "outputs": [],
   "source": [
    "import numpy as np\n",
    "import matplotlib as plt\n",
    "from scipy.optimize import minimize\n"
   ]
  },
  {
   "cell_type": "markdown",
   "id": "2308c72d",
   "metadata": {},
   "source": [
    "# Functions"
   ]
  },
  {
   "cell_type": "code",
   "execution_count": 66,
   "id": "3771ad8e",
   "metadata": {},
   "outputs": [],
   "source": [
    "#Range for x and y\n",
    "x_min, x_max = -2, 2                         \n",
    "y_min, y_max = -2, 2\n",
    "\n",
    "#Define function f \n",
    "f = lambda x, y: 1/2 * x**2 + 1 / 3 * y**2 - x*y / 4\n",
    "\n",
    "#Gradient function \n",
    "def derivative(f, x, y, dx = 0.1, dy = 0.1):\n",
    "    return (f(x+dx, 0) - f(x, 0))/dx + (f(0, y+dy)-f(0, y))/dy\n",
    "\n",
    "#This function uses variable step. The formula is the first equation in lecture 15.3.\n",
    "#The formula is a simplified version of the one in lecture 15.3. \n",
    "#It divided the numberator and the denominator by (gradf(x_n) - gradf(x_n-1)).\n",
    "#As a result, the variable step gamma_n = (x_n - x_(n-1)) / (gradf(x_n) - gradf(x_n-1))\n",
    "def minimize_var(f, x0, y0, N = 1000):\n",
    "    x_now = x0\n",
    "    y_now = y0\n",
    "    x_prev = None\n",
    "    y_prev = None\n",
    "    converged = False\n",
    "    \n",
    "    for i in range(N):\n",
    "        if x_prev is None and y_prev is None:\n",
    "            dx = 0.01\n",
    "            dy = 0.01\n",
    "        #f is a function of x and y, so calculate the step for x and y. \n",
    "        else:\n",
    "            dfx = derivative(f, x_now, y_now) - derivative(f, x_prev, y_now)\n",
    "            dx = (x_now - x_prev)/dfx\n",
    "            dfy = derivative(f, x_now, y_now) - derivative(f, x_prev, y_now)\n",
    "            dy = (y_now - y_prev)/dfy\n",
    "        x_next = x_now - derivative(f, x_now, y_now)*dx\n",
    "        y_next = y_now - derivative(f, x_now, y_now)*dy\n",
    "        \n",
    "        if f(x_next,y_next) < f(x_now, y_next):\n",
    "            x_prev = x_now\n",
    "            x_now = x_next\n",
    "        \n",
    "            y_prev = y_now\n",
    "            y_now = y_next\n",
    "\n",
    "        else:\n",
    "            converged = True\n",
    "            break\n",
    "    return converged, x_now, y_now, f(x_now, y_now), i\n"
   ]
  },
  {
   "cell_type": "markdown",
   "id": "06cc687d",
   "metadata": {},
   "source": [
    "# Main Loop"
   ]
  },
  {
   "cell_type": "code",
   "execution_count": 65,
   "id": "bc938e7c",
   "metadata": {},
   "outputs": [
    {
     "name": "stdout",
     "output_type": "stream",
     "text": [
      "(x0,y0):  -0.7344459084529111 -0.331854982664479    converged:  True Best solution: (x,y) = ( 0.13208766024147967 0.5346785860299118 ) f= 0.08636119426120445 cycles: 2\n"
     ]
    }
   ],
   "source": [
    "x0 = x_min+np.random.random()*(x_max-x_min)\n",
    "y0 = y_min+np.random.random()*(y_max-y_min)\n",
    "converged, x_best, y_best, f_min, i = minimize_var(f, x0, y0)\n",
    "print('(x0,y0): ', x0, y0, '   converged: ', converged, 'Best solution: (x,y) =', \n",
    "      '(',x_best, y_best,')', 'f=', f_min, 'cycles:', i)"
   ]
  },
  {
   "cell_type": "markdown",
   "id": "bb212726",
   "metadata": {},
   "source": [
    "## Minimization using scipy library"
   ]
  },
  {
   "cell_type": "code",
   "execution_count": 33,
   "id": "0502d1e7",
   "metadata": {},
   "outputs": [
    {
     "name": "stdout",
     "output_type": "stream",
     "text": [
      "Optimization terminated successfully.\n",
      "         Current function value: 0.024249\n",
      "         Iterations: 2\n",
      "         Function evaluations: 6\n",
      "         Gradient evaluations: 3\n"
     ]
    }
   ],
   "source": [
    "x0 = x_min+np.random.random()*(x_max-x_min)\n",
    "y0 = y_min+np.random.random()*(y_max-y_min)\n",
    "res = minimize(f,x0,y0, method ='CG',tol=1e-4, options={'disp': True})"
   ]
  }
 ],
 "metadata": {
  "kernelspec": {
   "display_name": "Python 3",
   "language": "python",
   "name": "python3"
  },
  "language_info": {
   "codemirror_mode": {
    "name": "ipython",
    "version": 3
   },
   "file_extension": ".py",
   "mimetype": "text/x-python",
   "name": "python",
   "nbconvert_exporter": "python",
   "pygments_lexer": "ipython3",
   "version": "3.8.8"
  }
 },
 "nbformat": 4,
 "nbformat_minor": 5
}
