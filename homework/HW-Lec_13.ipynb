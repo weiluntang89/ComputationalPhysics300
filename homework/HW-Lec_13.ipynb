{
 "cells": [
  {
   "cell_type": "markdown",
   "id": "c8139247",
   "metadata": {},
   "source": [
    "# Introduction"
   ]
  },
  {
   "cell_type": "markdown",
   "id": "f5b51b29",
   "metadata": {},
   "source": [
    "Weilun Tang "
   ]
  },
  {
   "cell_type": "markdown",
   "id": "b50d3ea7",
   "metadata": {},
   "source": [
    "Written by 10/11/2021"
   ]
  },
  {
   "cell_type": "markdown",
   "id": "32fde17f",
   "metadata": {},
   "source": [
    "This program has two seperates objectives. The first one is to simulate rolling two dice and calculate the probability to get 2 dice have values of 6. The second objective is to find the magic series for the linear congruential random number generator. In order to speed up the process of finding the appropriate parameters for the magic series, use np.random.randint() to generate values for the parameters a and c. The approriate parameters were found within 10 runs."
   ]
  },
  {
   "cell_type": "markdown",
   "id": "2a06c821",
   "metadata": {},
   "source": [
    "# Imports "
   ]
  },
  {
   "cell_type": "code",
   "execution_count": 30,
   "id": "71a78b8e",
   "metadata": {},
   "outputs": [],
   "source": [
    "import numpy as np\n",
    "import time\n",
    "import matplotlib.pyplot as plt"
   ]
  },
  {
   "cell_type": "markdown",
   "id": "80109811",
   "metadata": {},
   "source": [
    "# Main Loop"
   ]
  },
  {
   "cell_type": "code",
   "execution_count": 31,
   "id": "562b94b6",
   "metadata": {},
   "outputs": [
    {
     "name": "stdout",
     "output_type": "stream",
     "text": [
      "The numbers of double 6s are:  27354\n",
      "The probability of getting double 6s in 1e6 times:  0.027354\n",
      "Took 28.193044900894165 seconds\n"
     ]
    }
   ],
   "source": [
    "t0 = time.time()                     #Initial time \n",
    "count = 0\n",
    "N = 1000000\n",
    "for i in range(1000000):\n",
    "    a = np.random.randint(1,7,1)     #boundary chosen to be 1 and 7, because the first \n",
    "    b = np.random.randint(1,7,1)     #parameter is inclusive and the second parameter \n",
    "                                     #is exclusive. The desired boundary is from 1 to 6,\n",
    "                                     #so for np.random.randint the boundary is 1 to 7. \n",
    "    if a + b == 12:                  #The condition is only a = b = 6 can have a + b = 12\n",
    "        count += 1\n",
    "t1 = time.time()                     #Finaly time\n",
    "print(\"The numbers of double 6s are: \",count) \n",
    "print(\"The probability of getting double 6s in 1e6 times: \", count / N)\n",
    "print(f\"Took {t1 - t0} seconds\")"
   ]
  },
  {
   "cell_type": "code",
   "execution_count": 82,
   "id": "b03eafd3",
   "metadata": {},
   "outputs": [
    {
     "name": "stdout",
     "output_type": "stream",
     "text": [
      "a =  2613\n",
      "c =  3058\n"
     ]
    },
    {
     "data": {
      "image/png": "[encoded data removed]",
      "text/plain": [
       "<Figure size 432x288 with 1 Axes>"
      ]
     },
     "metadata": {
      "needs_background": "light"
     },
     "output_type": "display_data"
    },
    {
     "data": {
      "image/png": "[encoded data removed]",
      "text/plain": [
       "<Figure size 432x288 with 1 Axes>"
      ]
     },
     "metadata": {
      "needs_background": "light"
     },
     "output_type": "display_data"
    }
   ],
   "source": [
    "N = 100\n",
    "a = np.random.randint(1,10000)   #generate a random number for a and c to find the \n",
    "c = np.random.randint(1,10000)   #magic series \n",
    "m = 11 \n",
    "x = 1\n",
    "results = []\n",
    "for i in range(N):\n",
    "    x = (a * x + c)%m\n",
    "    results.append(x-5)          #original range is [0,10], -5 makes it [-5,5]\n",
    "\n",
    "print(\"a = \", a)\n",
    "print(\"c = \", c)\n",
    "plt.plot(results, \"o\")\n",
    "plt.show()\n",
    "plt.hist(results)\n",
    "plt.show()\n"
   ]
  },
  {
   "cell_type": "code",
   "execution_count": null,
   "id": "199d961a",
   "metadata": {},
   "outputs": [],
   "source": []
  }
 ],
 "metadata": {
  "kernelspec": {
   "display_name": "Python 3",
   "language": "python",
   "name": "python3"
  },
  "language_info": {
   "codemirror_mode": {
    "name": "ipython",
    "version": 3
   },
   "file_extension": ".py",
   "mimetype": "text/x-python",
   "name": "python",
   "nbconvert_exporter": "python",
   "pygments_lexer": "ipython3",
   "version": "3.8.8"
  }
 },
 "nbformat": 4,
 "nbformat_minor": 5
}
