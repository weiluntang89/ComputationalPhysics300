{
 "cells": [
  {
   "cell_type": "markdown",
   "id": "9280079d",
   "metadata": {},
   "source": [
    "# Introduction "
   ]
  },
  {
   "cell_type": "markdown",
   "id": "3efa81d9",
   "metadata": {},
   "source": [
    "Weilun Tang "
   ]
  },
  {
   "cell_type": "markdown",
   "id": "878bc4bd",
   "metadata": {},
   "source": [
    "Written by 10/10/2021"
   ]
  },
  {
   "cell_type": "markdown",
   "id": "d15a8ad0",
   "metadata": {},
   "source": [
    "This program is use Monte Carlo method to approximate integrals"
   ]
  },
  {
   "cell_type": "markdown",
   "id": "f35894b5",
   "metadata": {},
   "source": [
    "# Imports"
   ]
  },
  {
   "cell_type": "code",
   "execution_count": 17,
   "id": "83624602",
   "metadata": {},
   "outputs": [],
   "source": [
    "import numpy as np\n",
    "from random import random\n",
    "from scipy.integrate import quad"
   ]
  },
  {
   "cell_type": "markdown",
   "id": "161c3456",
   "metadata": {},
   "source": [
    "# Functions "
   ]
  },
  {
   "cell_type": "code",
   "execution_count": 45,
   "id": "b37e4384",
   "metadata": {},
   "outputs": [],
   "source": [
    "f = lambda x: x**(-1/2) / (np.exp(x)+1)    #All integrals are calculated outside of this \n",
    "w = lambda x: x**(-1 / 2 )                 #program.\n",
    "p = lambda x: 1 / 2 * x**( - 1/2)\n",
    "cdf = lambda x: x**(1/2)\n",
    "cdfinv = lambda x: x**(2)\n",
    "\n",
    "def IMC(N):\n",
    "    const = quad(w, 0, 1)[0]\n",
    "    I = 0\n",
    "    for i in range(N):\n",
    "        x = random()\n",
    "        y = cdfinv(x)\n",
    "        I += f(y) / w(y)\n",
    "    return I / N * const\n",
    "\n",
    "f1 = lambda x: x**(-1) / (np.exp(x) + 1)\n",
    "w1 = lambda x: 1 / x\n",
    "p1 = lambda x: 1 / 11.51292 / x\n",
    "cdf1 = lambda x: np.log(x) + 11.51292\n",
    "cdfinv1 = lambda x: np.exp(x -11.51292)\n",
    "\n",
    "def IMC1(N):\n",
    "    const = quad(w1, 0, 1)[0]\n",
    "    I = 0\n",
    "    for i in range(N):\n",
    "        x = random()\n",
    "        y = cdfinv1(x)\n",
    "        I += f1(y) / w1(y)\n",
    "    return I / N * const"
   ]
  },
  {
   "cell_type": "markdown",
   "id": "c446ee46",
   "metadata": {},
   "source": [
    "# Main Loop"
   ]
  },
  {
   "cell_type": "code",
   "execution_count": 46,
   "id": "61253e40",
   "metadata": {},
   "outputs": [
    {
     "name": "stdout",
     "output_type": "stream",
     "text": [
      "from scipy:  0.8389329600133838\n",
      "0.8389049442404628\n",
      "from scipy:  20.594976039904015\n"
     ]
    },
    {
     "name": "stderr",
     "output_type": "stream",
     "text": [
      "<ipython-input-46-1e69adb7b95a>:4: IntegrationWarning: The maximum number of subdivisions (50) has been achieved.\n",
      "  If increasing the limit yields no improvement it is advised to analyze \n",
      "  the integrand in order to determine the difficulties.  If the position of a \n",
      "  local difficulty can be determined (singularity, discontinuity) one will \n",
      "  probably gain from splitting up the interval and calling the integrator \n",
      "  on the subranges.  Perhaps a special-purpose integrator should be used.\n",
      "  print('from scipy: ', quad(f1, 0, 1)[0])\n",
      "<ipython-input-45-019f217a1960>:23: IntegrationWarning: The maximum number of subdivisions (50) has been achieved.\n",
      "  If increasing the limit yields no improvement it is advised to analyze \n",
      "  the integrand in order to determine the difficulties.  If the position of a \n",
      "  local difficulty can be determined (singularity, discontinuity) one will \n",
      "  probably gain from splitting up the interval and calling the integrator \n",
      "  on the subranges.  Perhaps a special-purpose integrator should be used.\n",
      "  const = quad(w1, 0, 1)[0]\n"
     ]
    },
    {
     "name": "stdout",
     "output_type": "stream",
     "text": [
      "20.83824134101566\n"
     ]
    }
   ],
   "source": [
    "print('from scipy: ', quad(f, 0, 1)[0])\n",
    "print(IMC(1000000))\n",
    "\n",
    "print('from scipy: ', quad(f1, 0, 1)[0])\n",
    "print(IMC1(1000000))"
   ]
  },
  {
   "cell_type": "code",
   "execution_count": null,
   "id": "46aa43c8",
   "metadata": {},
   "outputs": [],
   "source": []
  }
 ],
 "metadata": {
  "kernelspec": {
   "display_name": "Python 3",
   "language": "python",
   "name": "python3"
  },
  "language_info": {
   "codemirror_mode": {
    "name": "ipython",
    "version": 3
   },
   "file_extension": ".py",
   "mimetype": "text/x-python",
   "name": "python",
   "nbconvert_exporter": "python",
   "pygments_lexer": "ipython3",
   "version": "3.8.8"
  }
 },
 "nbformat": 4,
 "nbformat_minor": 5
}
