{
 "cells": [
  {
   "cell_type": "markdown",
   "id": "68e8b5eb",
   "metadata": {},
   "source": [
    "# Introduction"
   ]
  },
  {
   "cell_type": "markdown",
   "id": "f8515108",
   "metadata": {},
   "source": [
    "Weilun Tang "
   ]
  },
  {
   "cell_type": "markdown",
   "id": "2929b39f",
   "metadata": {},
   "source": [
    "Written by 11/13/2021"
   ]
  },
  {
   "cell_type": "markdown",
   "id": "fdfbeb80",
   "metadata": {},
   "source": [
    "This code is to find the global minimum for large N with different minimization method. The minimization methods in this code are CG, BFGS, and Powell."
   ]
  },
  {
   "cell_type": "markdown",
   "id": "f0ae4cf7",
   "metadata": {},
   "source": [
    "# Imports"
   ]
  },
  {
   "cell_type": "code",
   "execution_count": 61,
   "id": "7ccee064",
   "metadata": {},
   "outputs": [],
   "source": [
    "import numpy as np\n",
    "from scipy.optimize import minimize\n",
    "import time\n",
    "from numba import jit, njit, vectorize\n",
    "import matplotlib.pyplot as plt"
   ]
  },
  {
   "cell_type": "markdown",
   "id": "00e27b6d",
   "metadata": {},
   "source": [
    "# Fucntions "
   ]
  },
  {
   "cell_type": "code",
   "execution_count": 35,
   "id": "26975146",
   "metadata": {},
   "outputs": [],
   "source": [
    "@jit\n",
    "def LJ(r):\n",
    "    return 4*(1/r**12 - 1/r**6)\n",
    "\n",
    "@jit\n",
    "def total_energy(positions):\n",
    "    E = 0\n",
    "    N_atom = int(len(positions)/3)\n",
    "    #positions = [x0, y0, z0, x1, y1, z1, .....  , xn, yn, zn]\n",
    "    for i in range(N_atom-1):\n",
    "        for j in range(i+1, N_atom):\n",
    "            #pos1 and pos2 are vector 1 and vector 2\n",
    "            #multiply the factor 3 so vector 1 and 2 do not have the same \n",
    "            #elements for their parameters\n",
    "            pos1 = positions[i*3:(i+1)*3]\n",
    "            pos2 = positions[j*3:(j+1)*3]\n",
    "            #pos1 - pos2 is the separation  vector \n",
    "            #dist is the magnitude of the separation vector \n",
    "            dist = np.linalg.norm(pos1-pos2)\n",
    "            E += LJ(dist)\n",
    "    return E\n",
    "\n",
    "@jit\n",
    "def init_pos(N, L=5):\n",
    "    return L*np.random.random_sample((N*3,))"
   ]
  },
  {
   "cell_type": "markdown",
   "id": "d627e7a0",
   "metadata": {},
   "source": [
    "# Main Loop"
   ]
  },
  {
   "cell_type": "markdown",
   "id": "04d80f5c",
   "metadata": {},
   "source": [
    "## CG, N = 15"
   ]
  },
  {
   "cell_type": "code",
   "execution_count": 64,
   "id": "f9ef30e8",
   "metadata": {},
   "outputs": [
    {
     "name": "stdout",
     "output_type": "stream",
     "text": [
      "step:  0   values: -35.39404714756113\n",
      "step:  10   values: -47.51511910989835\n",
      "The global minimum:   -52.32262726173809\n",
      "Took 42.78007411956787 seconds\n"
     ]
    },
    {
     "data": {
      "image/png": "[encoded data removed]",
      "text/plain": [
       "<Figure size 432x288 with 1 Axes>"
      ]
     },
     "metadata": {
      "needs_background": "light"
     },
     "output_type": "display_data"
    }
   ],
   "source": [
    "%matplotlib inline\n",
    "t0 = time.time()\n",
    "f_values = []\n",
    "x_values = []\n",
    "N_attempts = 20\n",
    "N_atom = 15\n",
    "\n",
    "for i in range(N_attempts):\n",
    "    pos = init_pos(N_atom)\n",
    "    res = minimize(total_energy, pos, method='CG', tol=1e-4)\n",
    "    f_values.append(res.fun)\n",
    "    x_values.append(res.x)\n",
    "    if i%10==0:\n",
    "        print('step: ', i, '  values:', res.fun)\n",
    "\n",
    "t1 = time.time() \n",
    "print('The global minimum:  ', min(f_values))\n",
    "print(f\"Took {t1-t0} seconds\")  \n",
    "plt.title('LJ cluster:  '+ str(N_attempts)+ ' runs;  for N = ' + str(N_atom)+' atoms')\n",
    "plt.hist(f_values,50)\n",
    "plt.show()"
   ]
  },
  {
   "cell_type": "markdown",
   "id": "1bd69400",
   "metadata": {},
   "source": [
    "CG is very slow when N > 15. "
   ]
  },
  {
   "cell_type": "markdown",
   "id": "298185a2",
   "metadata": {},
   "source": [
    "## BFGS, N = 15"
   ]
  },
  {
   "cell_type": "code",
   "execution_count": 65,
   "id": "7f29dbee",
   "metadata": {},
   "outputs": [
    {
     "name": "stdout",
     "output_type": "stream",
     "text": [
      "step:  0   values: -47.44928902620034\n",
      "step:  10   values: -37.616589563790484\n",
      "The global minimum:   -51.41803722527169\n",
      "Took 22.058849096298218 seconds\n"
     ]
    },
    {
     "data": {
      "image/png": "[encoded data removed]",
      "text/plain": [
       "<Figure size 432x288 with 1 Axes>"
      ]
     },
     "metadata": {
      "needs_background": "light"
     },
     "output_type": "display_data"
    }
   ],
   "source": [
    "t0 = time.time()\n",
    "f_values = []\n",
    "x_values = []\n",
    "N_attempts = 20\n",
    "N_atom = 15\n",
    "\n",
    "for i in range(N_attempts):\n",
    "    pos = init_pos(N_atom)\n",
    "    res = minimize(total_energy, pos, method='BFGS', tol=1e-4)\n",
    "    f_values.append(res.fun)\n",
    "    x_values.append(res.x)\n",
    "    if i%10==0:\n",
    "        print('step: ', i, '  values:', res.fun)\n",
    "\n",
    "t1 = time.time() \n",
    "print('The global minimum:  ', min(f_values))\n",
    "print(f\"Took {t1-t0} seconds\")\n",
    "plt.title('LJ cluster:  '+ str(N_attempts)+ ' runs;  for N = ' + str(N_atom)+' atoms')\n",
    "plt.hist(f_values,50)\n",
    "plt.show()"
   ]
  },
  {
   "cell_type": "markdown",
   "id": "a06261cc",
   "metadata": {},
   "source": [
    "## BFGS, N = 17"
   ]
  },
  {
   "cell_type": "code",
   "execution_count": 66,
   "id": "bf559dd8",
   "metadata": {},
   "outputs": [
    {
     "name": "stdout",
     "output_type": "stream",
     "text": [
      "step:  0   values: -53.82463338037561\n",
      "step:  10   values: -37.60020986330436\n",
      "The global minimum:   -61.31799465989012\n",
      "Took 36.04764008522034 seconds\n"
     ]
    },
    {
     "data": {
      "image/png": "[encoded data removed]",
      "text/plain": [
       "<Figure size 432x288 with 1 Axes>"
      ]
     },
     "metadata": {
      "needs_background": "light"
     },
     "output_type": "display_data"
    }
   ],
   "source": [
    "t0 = time.time()\n",
    "f_values = []\n",
    "x_values = []\n",
    "N_attempts = 20\n",
    "N_atom = 17\n",
    "\n",
    "for i in range(N_attempts):\n",
    "    pos = init_pos(N_atom)\n",
    "    res = minimize(total_energy, pos, method='BFGS', tol=1e-4)\n",
    "    f_values.append(res.fun)\n",
    "    x_values.append(res.x)\n",
    "    if i%10==0:\n",
    "        print('step: ', i, '  values:', res.fun)\n",
    "\n",
    "t1 = time.time() \n",
    "print('The global minimum:  ', min(f_values))\n",
    "print(f\"Took {t1-t0} seconds\")\n",
    "plt.title('LJ cluster:  '+ str(N_attempts)+ ' runs;  for N = ' + str(N_atom)+' atoms')\n",
    "plt.hist(f_values,50)\n",
    "plt.show()"
   ]
  },
  {
   "cell_type": "markdown",
   "id": "322a9a16",
   "metadata": {},
   "source": [
    "## BFGS, N = 20"
   ]
  },
  {
   "cell_type": "code",
   "execution_count": 68,
   "id": "d77b5c19",
   "metadata": {},
   "outputs": [
    {
     "name": "stdout",
     "output_type": "stream",
     "text": [
      "step:  0   values: -52.67526753980305\n",
      "step:  10   values: -59.27150728795375\n",
      "The global minimum:   -76.21014540555507\n",
      "Took 77.11557292938232 seconds\n"
     ]
    },
    {
     "data": {
      "image/png": "[encoded data removed]",
      "text/plain": [
       "<Figure size 432x288 with 1 Axes>"
      ]
     },
     "metadata": {
      "needs_background": "light"
     },
     "output_type": "display_data"
    }
   ],
   "source": [
    "t0 = time.time()\n",
    "f_values = []\n",
    "x_values = []\n",
    "N_attempts = 20\n",
    "N_atom = 20\n",
    "\n",
    "for i in range(N_attempts):\n",
    "    pos = init_pos(N_atom)\n",
    "    res = minimize(total_energy, pos, method='BFGS', tol=1e-4)\n",
    "    f_values.append(res.fun)\n",
    "    x_values.append(res.x)\n",
    "    if i%10==0:\n",
    "        print('step: ', i, '  values:', res.fun)\n",
    "\n",
    "t1 = time.time() \n",
    "print('The global minimum:  ', min(f_values))\n",
    "print(f\"Took {t1-t0} seconds\")\n",
    "plt.title('LJ cluster:  '+ str(N_attempts)+ ' runs;  for N = ' + str(N_atom)+' atoms')\n",
    "plt.hist(f_values,50)\n",
    "plt.show()"
   ]
  },
  {
   "cell_type": "markdown",
   "id": "6a5d9e3e",
   "metadata": {},
   "source": [
    "BFGS method is the best among these three methods. It is the fastest method and output an accurate global minimum. It can also run large N."
   ]
  },
  {
   "cell_type": "markdown",
   "id": "e3f60a65",
   "metadata": {},
   "source": [
    "## Powell, N = 15"
   ]
  },
  {
   "cell_type": "code",
   "execution_count": 69,
   "id": "66212bf9",
   "metadata": {},
   "outputs": [
    {
     "name": "stdout",
     "output_type": "stream",
     "text": [
      "step:  0   values: -47.10349991774453\n",
      "step:  10   values: -48.546897251865815\n",
      "The global minimum:   -50.61844612781014\n",
      "Took 54.592886209487915 seconds\n"
     ]
    },
    {
     "data": {
      "image/png": "[encoded data removed]",
      "text/plain": [
       "<Figure size 432x288 with 1 Axes>"
      ]
     },
     "metadata": {
      "needs_background": "light"
     },
     "output_type": "display_data"
    }
   ],
   "source": [
    "t0 = time.time()\n",
    "f_values = []\n",
    "x_values = []\n",
    "N_attempts = 20\n",
    "N_atom = 15\n",
    "\n",
    "for i in range(N_attempts):\n",
    "    pos = init_pos(N_atom)\n",
    "    res = minimize(total_energy, pos, method='Powell', tol=1e-4)\n",
    "    f_values.append(res.fun)\n",
    "    x_values.append(res.x)\n",
    "    if i%10==0:\n",
    "        print('step: ', i, '  values:', res.fun)\n",
    "\n",
    "t1 = time.time() \n",
    "print('The global minimum:  ', min(f_values))\n",
    "print(f\"Took {t1-t0} seconds\")  \n",
    "plt.title('LJ cluster:  '+ str(N_attempts)+ ' runs;  for N = ' + str(N_atom)+' atoms')\n",
    "plt.hist(f_values,50)\n",
    "plt.show()"
   ]
  },
  {
   "cell_type": "markdown",
   "id": "2307491e",
   "metadata": {},
   "source": [
    "## Powell, N = 17"
   ]
  },
  {
   "cell_type": "code",
   "execution_count": 70,
   "id": "21d86593",
   "metadata": {},
   "outputs": [
    {
     "name": "stdout",
     "output_type": "stream",
     "text": [
      "step:  0   values: -58.118555383095455\n",
      "step:  10   values: -42.54776796730888\n",
      "The global minimum:   -58.118555383095455\n",
      "Took 81.74511003494263 seconds\n"
     ]
    },
    {
     "data": {
      "image/png": "[encoded data removed]",
      "text/plain": [
       "<Figure size 432x288 with 1 Axes>"
      ]
     },
     "metadata": {
      "needs_background": "light"
     },
     "output_type": "display_data"
    }
   ],
   "source": [
    "t0 = time.time()\n",
    "f_values = []\n",
    "x_values = []\n",
    "N_attempts = 20\n",
    "N_atom = 17\n",
    "\n",
    "for i in range(N_attempts):\n",
    "    pos = init_pos(N_atom)\n",
    "    res = minimize(total_energy, pos, method='Powell', tol=1e-4)\n",
    "    f_values.append(res.fun)\n",
    "    x_values.append(res.x)\n",
    "    if i%10==0:\n",
    "        print('step: ', i, '  values:', res.fun)\n",
    "\n",
    "t1 = time.time() \n",
    "print('The global minimum:  ', min(f_values))\n",
    "print(f\"Took {t1-t0} seconds\")  \n",
    "plt.title('LJ cluster:  '+ str(N_attempts)+ ' runs;  for N = ' + str(N_atom)+' atoms')\n",
    "plt.hist(f_values,50)\n",
    "plt.show()"
   ]
  },
  {
   "cell_type": "markdown",
   "id": "3ccd836d",
   "metadata": {},
   "source": [
    "Powell can run at N > 15, but the output global minimum is not accurate. Both cases are a little bit off compared to other methods. "
   ]
  },
  {
   "cell_type": "code",
   "execution_count": null,
   "id": "98dff8fc",
   "metadata": {},
   "outputs": [],
   "source": []
  }
 ],
 "metadata": {
  "kernelspec": {
   "display_name": "Python 3",
   "language": "python",
   "name": "python3"
  },
  "language_info": {
   "codemirror_mode": {
    "name": "ipython",
    "version": 3
   },
   "file_extension": ".py",
   "mimetype": "text/x-python",
   "name": "python",
   "nbconvert_exporter": "python",
   "pygments_lexer": "ipython3",
   "version": "3.8.8"
  }
 },
 "nbformat": 4,
 "nbformat_minor": 5
}
