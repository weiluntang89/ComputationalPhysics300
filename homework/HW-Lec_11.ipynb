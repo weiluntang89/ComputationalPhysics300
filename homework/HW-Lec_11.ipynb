{
 "cells": [
  {
   "cell_type": "markdown",
   "id": "1e9e36bc",
   "metadata": {},
   "source": [
    "# Introduction"
   ]
  },
  {
   "cell_type": "markdown",
   "id": "560ba8c8",
   "metadata": {},
   "source": [
    "Weilun Tang "
   ]
  },
  {
   "cell_type": "markdown",
   "id": "095a7003",
   "metadata": {},
   "source": [
    "Written by 10/03/2021"
   ]
  },
  {
   "cell_type": "markdown",
   "id": "c3501f44",
   "metadata": {},
   "source": [
    "This program is used for calculating Monte Carlo Integral. The area of the integration is the overlapped area between two half circles with center of (1,0) and (0,2)."
   ]
  },
  {
   "cell_type": "markdown",
   "id": "a634ef5c",
   "metadata": {},
   "source": [
    "# Imports"
   ]
  },
  {
   "cell_type": "code",
   "execution_count": 12,
   "id": "fab495cc",
   "metadata": {},
   "outputs": [],
   "source": [
    "import numpy as np\n",
    "from random import random\n",
    "import matplotlib.pyplot as plt"
   ]
  },
  {
   "cell_type": "markdown",
   "id": "0196cac7",
   "metadata": {},
   "source": [
    "# Functions"
   ]
  },
  {
   "cell_type": "code",
   "execution_count": 115,
   "id": "e98daeef",
   "metadata": {},
   "outputs": [],
   "source": [
    "def f1(x):\n",
    "    return -np.sqrt(4-x**2)+2                            #-np.sqrt(4-x**2) gives \n",
    "                                                         #the bottom half of the circle\n",
    "\n",
    "def f2(x):\n",
    "    return np.sqrt(1-(x-1)**2)\n",
    "\n",
    "def MC(N):\n",
    "    count = 0\n",
    "    for i in range(N):\n",
    "        x = 1.6 * random()\n",
    "        y = random()\n",
    "        if y > f1(x) and y < f2(x):\n",
    "            count +=1\n",
    "    p = count / N                                        #probability of success \n",
    "    devi = np.sqrt(p * (1 - p) / N)\n",
    "    print(\"The value of Monte Carlo integral is: \", 1.6 * count / N)\n",
    "    print(\"Standard deviation with N = \", N, \"is: \", devi)\n",
    "    print(\"\")\n",
    "    return 1.6 * count / N"
   ]
  },
  {
   "cell_type": "markdown",
   "id": "a80bea4b",
   "metadata": {},
   "source": [
    "# Main Loop"
   ]
  },
  {
   "cell_type": "code",
   "execution_count": 118,
   "id": "bb4db2f7",
   "metadata": {},
   "outputs": [
    {
     "name": "stdout",
     "output_type": "stream",
     "text": [
      "The value of Monte Carlo integral is:  1.04\n",
      "Standard deviation with N =  100 is:  0.047696960070847276\n",
      "\n",
      "The value of Monte Carlo integral is:  0.9696\n",
      "Standard deviation with N =  1000 is:  0.015451990163082553\n",
      "\n",
      "The value of Monte Carlo integral is:  0.9544\n",
      "Standard deviation with N =  10000 is:  0.004905993783118768\n",
      "\n",
      "The value of Monte Carlo integral is:  0.9633920000000001\n",
      "Standard deviation with N =  100000 is:  0.0015478097609202496\n",
      "\n"
     ]
    },
    {
     "data": {
      "text/plain": [
       "0.9633920000000001"
      ]
     },
     "execution_count": 118,
     "metadata": {},
     "output_type": "execute_result"
    },
    {
     "data": {
      "image/png": "[encoded data removed]",
      "text/plain": [
       "<Figure size 432x288 with 1 Axes>"
      ]
     },
     "metadata": {
      "needs_background": "light"
     },
     "output_type": "display_data"
    }
   ],
   "source": [
    "x = np.linspace(0,1.6,10000)\n",
    "plt.plot(x,f1(x))\n",
    "plt.plot(x,f2(x))\n",
    "\n",
    "MC(100)\n",
    "MC(1000)\n",
    "MC(10000)\n",
    "MC(100000)"
   ]
  },
  {
   "cell_type": "code",
   "execution_count": null,
   "id": "7e5e8822",
   "metadata": {},
   "outputs": [],
   "source": []
  },
  {
   "cell_type": "code",
   "execution_count": null,
   "id": "42431cc5",
   "metadata": {},
   "outputs": [],
   "source": []
  }
 ],
 "metadata": {
  "kernelspec": {
   "display_name": "Python 3",
   "language": "python",
   "name": "python3"
  },
  "language_info": {
   "codemirror_mode": {
    "name": "ipython",
    "version": 3
   },
   "file_extension": ".py",
   "mimetype": "text/x-python",
   "name": "python",
   "nbconvert_exporter": "python",
   "pygments_lexer": "ipython3",
   "version": "3.8.8"
  }
 },
 "nbformat": 4,
 "nbformat_minor": 5
}
