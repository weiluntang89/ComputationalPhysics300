{
 "cells": [
  {
   "cell_type": "markdown",
   "id": "c2263c7c",
   "metadata": {},
   "source": [
    "# Introduction "
   ]
  },
  {
   "cell_type": "markdown",
   "id": "84082252",
   "metadata": {},
   "source": [
    "Weilun Tang "
   ]
  },
  {
   "cell_type": "markdown",
   "id": "2d9defee",
   "metadata": {},
   "source": [
    "Written by 10/05/2021"
   ]
  },
  {
   "cell_type": "markdown",
   "id": "d63377e1",
   "metadata": {},
   "source": [
    "This program is to find the ground state energy of Lennard-Jones potential for N = 3. The optimization method is gradient conjugate."
   ]
  },
  {
   "cell_type": "markdown",
   "id": "5340b869",
   "metadata": {},
   "source": [
    "# Imports"
   ]
  },
  {
   "cell_type": "code",
   "execution_count": 56,
   "id": "83d2164c",
   "metadata": {},
   "outputs": [],
   "source": [
    "import numpy as np\n",
    "from scipy.optimize import minimize"
   ]
  },
  {
   "cell_type": "markdown",
   "id": "82ee06fd",
   "metadata": {},
   "source": [
    "# Functions"
   ]
  },
  {
   "cell_type": "code",
   "execution_count": 49,
   "id": "f79cd69d",
   "metadata": {},
   "outputs": [],
   "source": [
    "def LJ(r):\n",
    "    return 4*(1/r**12 - 1/r**6)\n",
    "\n",
    "def total_energy(positions):\n",
    "    E = 0\n",
    "    N_atom = int(len(positions)/3)\n",
    "    #positions = [x0, y0, z0, x1, y1, z1, .....  , xn, yn, zn]\n",
    "    for i in range(N_atom-1):\n",
    "        for j in range(i+1, N_atom):\n",
    "            #pos1 and pos2 are vector 1 and vector 2\n",
    "            #multiply the factor 3 so vector 1 and 2 do not have the same \n",
    "            #elements for their parameters\n",
    "            pos1 = positions[i*3:(i+1)*3]\n",
    "            pos2 = positions[j*3:(j+1)*3]\n",
    "            #pos1 - pos2 is the separation  vector \n",
    "            #dist is the magnitude of the separation vector \n",
    "            dist = np.linalg.norm(pos1-pos2)\n",
    "            E += LJ(dist)\n",
    "    return E\n",
    "            \n",
    "def init_pos(N, L=5):\n",
    "    return L*np.random.random_sample((N*3,))"
   ]
  },
  {
   "cell_type": "markdown",
   "id": "c37fa844",
   "metadata": {},
   "source": [
    "# Main Loop"
   ]
  },
  {
   "cell_type": "code",
   "execution_count": 65,
   "id": "c4ddfd08",
   "metadata": {},
   "outputs": [
    {
     "name": "stdout",
     "output_type": "stream",
     "text": [
      "-2.999999999991621\n"
     ]
    }
   ],
   "source": [
    "pos = init_pos(3)\n",
    "total_energy(pos)\n",
    "\n",
    "#Optimization for finding the global minimum\n",
    "#Method is gradient conjugate \n",
    "res = minimize(total_energy, pos, method='CG', tol=1e-4)\n",
    "print(res.fun)"
   ]
  }
 ],
 "metadata": {
  "kernelspec": {
   "display_name": "Python 3",
   "language": "python",
   "name": "python3"
  },
  "language_info": {
   "codemirror_mode": {
    "name": "ipython",
    "version": 3
   },
   "file_extension": ".py",
   "mimetype": "text/x-python",
   "name": "python",
   "nbconvert_exporter": "python",
   "pygments_lexer": "ipython3",
   "version": "3.8.8"
  }
 },
 "nbformat": 4,
 "nbformat_minor": 5
}
