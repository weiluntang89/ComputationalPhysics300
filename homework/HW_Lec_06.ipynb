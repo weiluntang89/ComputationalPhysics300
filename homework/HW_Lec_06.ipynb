{
 "cells": [
  {
   "cell_type": "markdown",
   "id": "cbe63801",
   "metadata": {},
   "source": [
    "# 6.4.1 Try to find a way to deal with the noisy data and give yoru reasoning."
   ]
  },
  {
   "cell_type": "markdown",
   "id": "5a3f0bfe",
   "metadata": {},
   "source": [
    "Answer: when measuring signals on a device, it is common that the data(signal) contains noise. The way to reduce the noises in this example is to build a filter. For instantce, the noises are higher frequency than the signal. A passive RC low pass filter can be used to removed noises."
   ]
  },
  {
   "cell_type": "markdown",
   "id": "0ba1a29a",
   "metadata": {},
   "source": [
    "# 6.4.2 Heat capacity of a solid "
   ]
  },
  {
   "cell_type": "markdown",
   "id": "3599b267",
   "metadata": {},
   "source": [
    "# Introduction "
   ]
  },
  {
   "cell_type": "markdown",
   "id": "0b604299",
   "metadata": {},
   "source": [
    "Weilun Tang "
   ]
  },
  {
   "cell_type": "markdown",
   "id": "c3ac8f26",
   "metadata": {},
   "source": [
    "Written by 09/11/2021. Modified by 09/12/2021"
   ]
  },
  {
   "cell_type": "markdown",
   "id": "8c961862",
   "metadata": {},
   "source": [
    "This program is to calculate the heat capacity of a solid by using the Debye's theory of solids. First, use the Simpson's rule to approximate the integral in the Debye's theory. Then, use the result of the integral to multiply the corresponding given costants in order to obtain the heat capacity. "
   ]
  },
  {
   "cell_type": "markdown",
   "id": "5e72d09e",
   "metadata": {},
   "source": [
    "# Imports"
   ]
  },
  {
   "cell_type": "code",
   "execution_count": 78,
   "id": "d02fa015",
   "metadata": {},
   "outputs": [],
   "source": [
    "import numpy as np\n",
    "import scipy.constants\n",
    "import matplotlib.pyplot as plt\n",
    "from scipy import integrate "
   ]
  },
  {
   "cell_type": "markdown",
   "id": "219c7094",
   "metadata": {},
   "source": [
    "# Functions "
   ]
  },
  {
   "cell_type": "code",
   "execution_count": null,
   "id": "c166460e",
   "metadata": {},
   "outputs": [],
   "source": [
    "def simpson(start, end, n):                 #n must be even         \n",
    "    f = lambda x: (x**4 * np.exp(x)) / (np.exp(x)-1)**2\n",
    "    \n",
    "    deltax = (end - start) / n\n",
    "    resultsx = np.linspace(start, end, n+1) # total x = n+1. n is the total intervals \n",
    "    resultsy = f(resultsx)\n",
    " \n",
    "    area = 0\n",
    "    for i in range(0,n,2): \n",
    "        area += 1/3*deltax*(resultsy[i]+4*resultsy[i+1]+resultsy[i+2])\n",
    "    return area\n",
    "\n",
    "def debye(T, integral):\n",
    "    k = scipy.constants.Boltzmann\n",
    "    rho = 6.022 * 10**28\n",
    "    theta = 428\n",
    "    V = 0.001                               #in m^3\n",
    "    return 9 * V * rho * k * (T / theta)**3 * integral"
   ]
  },
  {
   "cell_type": "markdown",
   "id": "20688bbb",
   "metadata": {},
   "source": [
    "# Main Loop"
   ]
  },
  {
   "cell_type": "code",
   "execution_count": 87,
   "id": "ff8991f2",
   "metadata": {},
   "outputs": [
    {
     "name": "stdout",
     "output_type": "stream",
     "text": [
      "The heat capacity Cv at  5 K is:  0.309894217325236\n",
      "The Simpson's rule:  25.97575760906729\n",
      "scipy.integrate.quad():  (25.975757609067312, 3.3526582698603646e-07)\n"
     ]
    },
    {
     "data": {
      "image/png": "[encoded data removed]",
      "text/plain": [
       "<Figure size 432x288 with 1 Axes>"
      ]
     },
     "metadata": {
      "needs_background": "light"
     },
     "output_type": "display_data"
    }
   ],
   "source": [
    "#t is the temperature, user can change t to any desired value\n",
    "t = 5                 \n",
    "print(\"The heat capacity Cv at \", t, \"K is:\" ,debye(t, simpson(1e-15, theta / t, 3000)))\n",
    "\n",
    "#Evaluate the integral in the Debye's theory of solids using the Simpson's rule and \n",
    "#the built-function integrate.quad().\n",
    "#The results from these two methods are about the same. \n",
    "#integrate.quad() returns the error of the approximation \n",
    "print(\"The Simpson's rule: \",simpson(1e-15, theta / t, 2000))\n",
    "print(\"scipy.integrate.quad(): \",integrate.quad(f, 1e-15, theta / t))\n",
    "\n",
    "\n",
    "#Plot the heat capacity as a function of temperature from T = 5K to T = 500K\n",
    "T = np.linspace(5, 500, 100)\n",
    "plt.plot(T, debye(T, simpson(1e-15, theta / T, 2000)))\n",
    "plt.title(\"Heat Capacity vs Temperature\")\n",
    "plt.ylabel(\"Cv(J/K)\")\n",
    "plt.xlabel(\"T(K)\")\n",
    "plt.show()\n"
   ]
  },
  {
   "cell_type": "code",
   "execution_count": null,
   "id": "0a0d93a0",
   "metadata": {},
   "outputs": [],
   "source": []
  }
 ],
 "metadata": {
  "kernelspec": {
   "display_name": "Python 3",
   "language": "python",
   "name": "python3"
  },
  "language_info": {
   "codemirror_mode": {
    "name": "ipython",
    "version": 3
   },
   "file_extension": ".py",
   "mimetype": "text/x-python",
   "name": "python",
   "nbconvert_exporter": "python",
   "pygments_lexer": "ipython3",
   "version": "3.8.8"
  }
 },
 "nbformat": 4,
 "nbformat_minor": 5
}
